{
 "cells": [
  {
   "cell_type": "code",
   "execution_count": null,
   "metadata": {
    "id": "G4ZMH0taVaDT"
   },
   "outputs": [],
   "source": []
  },
  {
   "cell_type": "code",
   "execution_count": null,
   "metadata": {},
   "outputs": [],
   "source": []
  },
  {
   "cell_type": "markdown",
   "metadata": {
    "id": "fCKhpSXAVfdI"
   },
   "source": [
    "Design your own Convolutional Neural Network to classify images from a reduced version of the\n",
    "Dogs vs Cats dataset. Use the RELU activation function and the Adam optimiser. Change the other\n",
    "parameters of the network and hyperparameters to achieve the best accuracy."
   ]
  },
  {
   "cell_type": "code",
   "execution_count": null,
   "metadata": {},
   "outputs": [],
   "source": [
    "from google.colab import drive\n",
    "drive.mount('/content/drive')\n"
   ]
  },
  {
   "cell_type": "code",
   "execution_count": 2,
   "metadata": {
    "id": "c6YAIhUXa9gM"
   },
   "outputs": [],
   "source": [
    "import zipfile\n",
    "import os\n",
    "zip_ref= zipfile.ZipFile('dogs-vs-cats-vvsmall.zip','r')\n",
    "zip_ref.extractall('/tmp')\n",
    "zip_ref.close()"
   ]
  },
  {
   "cell_type": "code",
   "execution_count": 3,
   "metadata": {
    "id": "dYHVDXzKH6bL"
   },
   "outputs": [
    {
     "name": "stderr",
     "output_type": "stream",
     "text": [
      "C:\\Users\\yamup\\anaconda3\\lib\\site-packages\\scipy\\__init__.py:138: UserWarning: A NumPy version >=1.16.5 and <1.23.0 is required for this version of SciPy (detected version 1.23.5)\n",
      "  warnings.warn(f\"A NumPy version >={np_minversion} and <{np_maxversion} is required for this version of \"\n"
     ]
    }
   ],
   "source": [
    "# load the libraries\n",
    "import os\n",
    "import zipfile\n",
    "import matplotlib.pyplot as plt\n",
    "import matplotlib.image as mpimg\n",
    "import tensorflow as tf\n",
    "from tensorflow.keras.preprocessing.image import ImageDataGenerator\n",
    "import numpy as np\n",
    "from tensorflow.keras.preprocessing import image\n",
    "import random\n",
    "from tensorflow.keras.preprocessing.image import img_to_array, load_img\n",
    "from tensorflow import keras\n"
   ]
  },
  {
   "cell_type": "code",
   "execution_count": 4,
   "metadata": {
    "id": "rgdd3DFxeJLY"
   },
   "outputs": [],
   "source": [
    "base_dir= '/tmp/dogs-vs-cats-vvsmall' \n",
    "train_dir=os.path.join(base_dir,'train')\n",
    "validation_dir=os.path.join(base_dir,'validation')\n",
    "\n",
    "#Directory with the train cat images\n",
    "train_cat_dir=os.path.join(train_dir,'cats')\n",
    "\n",
    "#directory with the train dog images\n",
    "train_dog_dir=os.path.join(train_dir,'dogs')\n",
    "\n",
    "#directory with the validation cat images\n",
    "validation_cat_dir=os.path.join(validation_dir,'cats')\n",
    "\n",
    "#directory with the  validation dogs images\n",
    "validation_dog_dir=os.path.join(validation_dir,'dogs')"
   ]
  },
  {
   "cell_type": "markdown",
   "metadata": {
    "id": "G0KLvNPJho6c"
   },
   "source": [
    "#get the data set details"
   ]
  },
  {
   "cell_type": "code",
   "execution_count": 5,
   "metadata": {
    "colab": {
     "base_uri": "https://localhost:8080/"
    },
    "id": "Hpbz8tvngU8u",
    "outputId": "7bc38294-6f18-4082-cc31-12665721541e"
   },
   "outputs": [
    {
     "name": "stdout",
     "output_type": "stream",
     "text": [
      "3000\n",
      "['cat.0.jpg', 'cat.1.jpg', 'cat.10.jpg', 'cat.100.jpg', 'cat.1000.jpg']\n"
     ]
    }
   ],
   "source": [
    "train_cat=os.listdir(train_cat_dir)\n",
    "print(len(train_cat))\n",
    "print(train_cat[:5])"
   ]
  },
  {
   "cell_type": "code",
   "execution_count": 6,
   "metadata": {
    "colab": {
     "base_uri": "https://localhost:8080/"
    },
    "id": "bu5VYAugikxg",
    "outputId": "f87c11f3-3b67-4e51-f9a7-20b5d94ae549"
   },
   "outputs": [
    {
     "name": "stdout",
     "output_type": "stream",
     "text": [
      "the length of the training data set of dog is: 3000\n",
      "['dog.0.jpg', 'dog.1.jpg', 'dog.10.jpg', 'dog.100.jpg', 'dog.1000.jpg'] \n",
      "\n",
      "the length of the validation data set of dog is: 900\n",
      "['dog.8500.jpg', 'dog.8501.jpg', 'dog.8502.jpg', 'dog.8503.jpg', 'dog.8504.jpg'] \n",
      "\n",
      "the length of the validation data set of cat is: 900\n",
      "['dog.8500.jpg', 'dog.8501.jpg', 'dog.8502.jpg', 'dog.8503.jpg', 'dog.8504.jpg'] \n",
      "\n"
     ]
    }
   ],
   "source": [
    "train_dog=os.listdir(train_dog_dir)\n",
    "print(\"the length of the training data set of dog is:\",len(train_dog))\n",
    "print(train_dog[:5],\"\\n\")\n",
    "\n",
    "validation_dog=os.listdir(validation_dog_dir)\n",
    "print(\"the length of the validation data set of dog is:\",len(validation_dog))\n",
    "print(validation_dog[:5],\"\\n\")\n",
    "\n",
    "validation_cat=os.listdir(validation_cat_dir)\n",
    "print(\"the length of the validation data set of cat is:\",len(validation_cat))\n",
    "print(validation_dog[:5],\"\\n\")"
   ]
  },
  {
   "cell_type": "code",
   "execution_count": 5,
   "metadata": {
    "colab": {
     "base_uri": "https://localhost:8080/"
    },
    "id": "ts-uSEvujrTf",
    "outputId": "72ebe0e9-bfe9-4f89-802c-de01a09edd82"
   },
   "outputs": [
    {
     "name": "stdout",
     "output_type": "stream",
     "text": [
      "Found 6000 images belonging to 2 classes.\n",
      "Found 1800 images belonging to 2 classes.\n"
     ]
    }
   ],
   "source": [
    "\n",
    "# All images will be rescaled by 1./255\n",
    "train_datagen = ImageDataGenerator(rescale=1/255)\n",
    "validation_datagen = ImageDataGenerator(rescale=1/255)\n",
    "\n",
    "# Flow training images in batches of 32 using train_datagen generator\n",
    "train_generator = train_datagen.flow_from_directory(\n",
    "        '/tmp/dogs-vs-cats-vvsmall/train',  # This is the source directory for training images\n",
    "        target_size=(200, 200),  # All images will be resized to 300x300\n",
    "        batch_size=32,\n",
    "        # Since we use binary_crossentropy loss, we need binary labels\n",
    "        class_mode='binary')\n",
    "\n",
    "# Flow training images in batches of 32 using train_datagen generator\n",
    "validation_generator = validation_datagen.flow_from_directory(\n",
    "        '/tmp/dogs-vs-cats-vvsmall/validation',  # This is the source directory for training images\n",
    "        target_size=(200, 200),  # All images will be resized to 300x300\n",
    "        batch_size=32,\n",
    "        # Since we use binary_crossentropy loss, we need binary labels\n",
    "        class_mode='binary')"
   ]
  },
  {
   "cell_type": "code",
   "execution_count": 6,
   "metadata": {
    "colab": {
     "base_uri": "https://localhost:8080/"
    },
    "id": "WeHhdfmWGg-E",
    "outputId": "3a74598d-9812-4d2b-9ae5-15f7afa639a7"
   },
   "outputs": [
    {
     "name": "stdout",
     "output_type": "stream",
     "text": [
      "Model: \"sequential\"\n",
      "_________________________________________________________________\n",
      " Layer (type)                Output Shape              Param #   \n",
      "=================================================================\n",
      " conv2d (Conv2D)             (None, 200, 200, 16)      448       \n",
      "                                                                 \n",
      " max_pooling2d (MaxPooling2D  (None, 100, 100, 16)     0         \n",
      " )                                                               \n",
      "                                                                 \n",
      " conv2d_1 (Conv2D)           (None, 100, 100, 32)      4640      \n",
      "                                                                 \n",
      " max_pooling2d_1 (MaxPooling  (None, 50, 50, 32)       0         \n",
      " 2D)                                                             \n",
      "                                                                 \n",
      " conv2d_2 (Conv2D)           (None, 50, 50, 64)        18496     \n",
      "                                                                 \n",
      " max_pooling2d_2 (MaxPooling  (None, 25, 25, 64)       0         \n",
      " 2D)                                                             \n",
      "                                                                 \n",
      " conv2d_3 (Conv2D)           (None, 25, 25, 64)        36928     \n",
      "                                                                 \n",
      " max_pooling2d_3 (MaxPooling  (None, 12, 12, 64)       0         \n",
      " 2D)                                                             \n",
      "                                                                 \n",
      " conv2d_4 (Conv2D)           (None, 12, 12, 64)        36928     \n",
      "                                                                 \n",
      " max_pooling2d_4 (MaxPooling  (None, 6, 6, 64)         0         \n",
      " 2D)                                                             \n",
      "                                                                 \n",
      " conv2d_5 (Conv2D)           (None, 6, 6, 64)          36928     \n",
      "                                                                 \n",
      " max_pooling2d_5 (MaxPooling  (None, 3, 3, 64)         0         \n",
      " 2D)                                                             \n",
      "                                                                 \n",
      " flatten (Flatten)           (None, 576)               0         \n",
      "                                                                 \n",
      " dense (Dense)               (None, 512)               295424    \n",
      "                                                                 \n",
      " dense_1 (Dense)             (None, 1)                 513       \n",
      "                                                                 \n",
      "=================================================================\n",
      "Total params: 430,305\n",
      "Trainable params: 430,305\n",
      "Non-trainable params: 0\n",
      "_________________________________________________________________\n"
     ]
    }
   ],
   "source": [
    "\n",
    "from tensorflow.keras.models import Sequential\n",
    "from tensorflow.keras.layers import Conv2D, MaxPooling2D, Flatten, Dense\n",
    "model = Sequential()\n",
    "model.add(Conv2D(filters=16, kernel_size=(3,3), strides=1,activation='relu', padding='same', input_shape=(200,200,3)))\n",
    "model.add(MaxPooling2D(2,2))\n",
    "model.add(Conv2D(filters=32, kernel_size=(3,3), strides=1,activation='relu', padding='same'))\n",
    "model.add(MaxPooling2D(2,2))\n",
    "model.add(Conv2D(filters=64, kernel_size=(3,3), strides=1,activation='relu', padding='same'))\n",
    "model.add(MaxPooling2D(2,2))\n",
    "model.add(Conv2D(filters=64, kernel_size=(3,3), strides=1,activation='relu', padding='same'))\n",
    "model.add(MaxPooling2D(2,2))\n",
    "model.add(Conv2D(filters=64, kernel_size=(3,3), strides=1,activation='relu', padding='same'))\n",
    "model.add(MaxPooling2D(2,2))\n",
    "model.add(Conv2D(filters=64, kernel_size=(3,3), strides=1,activation='relu', padding='same'))\n",
    "model.add(MaxPooling2D(2,2))\n",
    "model.add(Flatten())\n",
    "model.add(Dense(512, activation='relu'))\n",
    "model.add(Dense(1,activation='sigmoid'))\n",
    "model.summary()"
   ]
  },
  {
   "cell_type": "code",
   "execution_count": 8,
   "metadata": {
    "id": "h8nbz1UgLRhl"
   },
   "outputs": [],
   "source": [
    "model.compile(loss='binary_crossentropy', optimizer='adam', metrics=['accuracy'])\n"
   ]
  },
  {
   "cell_type": "code",
   "execution_count": 9,
   "metadata": {
    "colab": {
     "background_save": true,
     "base_uri": "https://localhost:8080/"
    },
    "id": "EBV7Uv4sLWpa",
    "outputId": "3d7bdea7-b001-4439-bdd1-2d3a0a58c37c"
   },
   "outputs": [
    {
     "name": "stdout",
     "output_type": "stream",
     "text": [
      "Epoch 1/50\n",
      "188/188 [==============================] - 135s 712ms/step - loss: 0.6905 - accuracy: 0.5275 - val_loss: 0.6870 - val_accuracy: 0.5144\n",
      "Epoch 2/50\n",
      "188/188 [==============================] - 104s 555ms/step - loss: 0.6643 - accuracy: 0.5928 - val_loss: 0.6713 - val_accuracy: 0.5733\n",
      "Epoch 3/50\n",
      "188/188 [==============================] - 106s 563ms/step - loss: 0.6246 - accuracy: 0.6410 - val_loss: 0.6198 - val_accuracy: 0.6506\n",
      "Epoch 4/50\n",
      "188/188 [==============================] - 105s 558ms/step - loss: 0.5907 - accuracy: 0.6750 - val_loss: 0.5986 - val_accuracy: 0.6761\n",
      "Epoch 5/50\n",
      "188/188 [==============================] - 106s 561ms/step - loss: 0.5326 - accuracy: 0.7358 - val_loss: 0.5423 - val_accuracy: 0.7344\n",
      "Epoch 6/50\n",
      "188/188 [==============================] - 116s 616ms/step - loss: 0.4816 - accuracy: 0.7660 - val_loss: 0.4571 - val_accuracy: 0.7944\n",
      "Epoch 7/50\n",
      "188/188 [==============================] - 123s 655ms/step - loss: 0.4085 - accuracy: 0.8145 - val_loss: 0.4266 - val_accuracy: 0.7956\n",
      "Epoch 8/50\n",
      "188/188 [==============================] - 112s 595ms/step - loss: 0.3620 - accuracy: 0.8367 - val_loss: 0.4193 - val_accuracy: 0.8139\n",
      "Epoch 9/50\n",
      "188/188 [==============================] - 120s 639ms/step - loss: 0.3048 - accuracy: 0.8670 - val_loss: 0.4033 - val_accuracy: 0.8294\n",
      "Epoch 10/50\n",
      "188/188 [==============================] - 117s 620ms/step - loss: 0.2629 - accuracy: 0.8907 - val_loss: 0.3739 - val_accuracy: 0.8394\n",
      "Epoch 11/50\n",
      "188/188 [==============================] - 109s 582ms/step - loss: 0.2147 - accuracy: 0.9093 - val_loss: 0.4077 - val_accuracy: 0.8228\n",
      "Epoch 12/50\n",
      "188/188 [==============================] - 107s 566ms/step - loss: 0.1669 - accuracy: 0.9348 - val_loss: 0.4673 - val_accuracy: 0.8272\n",
      "Epoch 13/50\n",
      "188/188 [==============================] - 104s 554ms/step - loss: 0.1401 - accuracy: 0.9430 - val_loss: 0.5133 - val_accuracy: 0.8339\n",
      "Epoch 14/50\n",
      "188/188 [==============================] - 106s 563ms/step - loss: 0.1165 - accuracy: 0.9540 - val_loss: 0.4893 - val_accuracy: 0.8306\n",
      "Epoch 15/50\n",
      "188/188 [==============================] - 105s 560ms/step - loss: 0.0831 - accuracy: 0.9688 - val_loss: 0.6282 - val_accuracy: 0.8311\n",
      "Epoch 16/50\n",
      "188/188 [==============================] - 105s 559ms/step - loss: 0.0599 - accuracy: 0.9780 - val_loss: 0.7190 - val_accuracy: 0.8417\n",
      "Epoch 17/50\n",
      "188/188 [==============================] - 107s 567ms/step - loss: 0.0724 - accuracy: 0.9730 - val_loss: 0.5428 - val_accuracy: 0.8317\n",
      "Epoch 18/50\n",
      "188/188 [==============================] - 104s 554ms/step - loss: 0.0670 - accuracy: 0.9748 - val_loss: 0.6396 - val_accuracy: 0.8217\n",
      "Epoch 19/50\n",
      "188/188 [==============================] - 105s 556ms/step - loss: 0.0451 - accuracy: 0.9847 - val_loss: 0.8304 - val_accuracy: 0.8106\n",
      "Epoch 20/50\n",
      "188/188 [==============================] - 106s 564ms/step - loss: 0.0588 - accuracy: 0.9782 - val_loss: 0.7333 - val_accuracy: 0.8217\n",
      "Epoch 21/50\n",
      "188/188 [==============================] - 105s 557ms/step - loss: 0.0364 - accuracy: 0.9880 - val_loss: 0.7607 - val_accuracy: 0.8161\n",
      "Epoch 22/50\n",
      "188/188 [==============================] - 107s 571ms/step - loss: 0.0479 - accuracy: 0.9823 - val_loss: 0.7333 - val_accuracy: 0.8394\n",
      "Epoch 23/50\n",
      "188/188 [==============================] - 106s 562ms/step - loss: 0.0322 - accuracy: 0.9877 - val_loss: 0.8689 - val_accuracy: 0.8294\n",
      "Epoch 24/50\n",
      "188/188 [==============================] - 121s 646ms/step - loss: 0.0371 - accuracy: 0.9857 - val_loss: 0.8369 - val_accuracy: 0.8228\n",
      "Epoch 25/50\n",
      "188/188 [==============================] - 109s 581ms/step - loss: 0.0475 - accuracy: 0.9825 - val_loss: 0.6294 - val_accuracy: 0.8389\n",
      "Epoch 26/50\n",
      "188/188 [==============================] - 110s 586ms/step - loss: 0.0161 - accuracy: 0.9942 - val_loss: 0.9032 - val_accuracy: 0.8361\n",
      "Epoch 27/50\n",
      "188/188 [==============================] - 106s 561ms/step - loss: 0.0375 - accuracy: 0.9868 - val_loss: 0.7437 - val_accuracy: 0.8372\n",
      "Epoch 28/50\n",
      "188/188 [==============================] - 109s 581ms/step - loss: 0.0230 - accuracy: 0.9927 - val_loss: 1.0419 - val_accuracy: 0.8311\n",
      "Epoch 29/50\n",
      "188/188 [==============================] - 117s 621ms/step - loss: 0.0465 - accuracy: 0.9850 - val_loss: 0.8534 - val_accuracy: 0.8211\n",
      "Epoch 30/50\n",
      "188/188 [==============================] - 110s 583ms/step - loss: 0.0404 - accuracy: 0.9838 - val_loss: 0.7033 - val_accuracy: 0.8461\n",
      "Epoch 31/50\n",
      "188/188 [==============================] - 112s 596ms/step - loss: 0.0044 - accuracy: 0.9987 - val_loss: 0.8810 - val_accuracy: 0.8506\n",
      "Epoch 32/50\n",
      "188/188 [==============================] - 111s 588ms/step - loss: 0.0181 - accuracy: 0.9932 - val_loss: 1.0010 - val_accuracy: 0.8250\n",
      "Epoch 33/50\n",
      "188/188 [==============================] - 110s 583ms/step - loss: 0.0647 - accuracy: 0.9772 - val_loss: 0.7659 - val_accuracy: 0.8300\n",
      "Epoch 34/50\n",
      "188/188 [==============================] - 111s 592ms/step - loss: 0.0554 - accuracy: 0.9800 - val_loss: 0.8256 - val_accuracy: 0.8333\n",
      "Epoch 35/50\n",
      "188/188 [==============================] - 110s 584ms/step - loss: 0.0114 - accuracy: 0.9958 - val_loss: 1.0245 - val_accuracy: 0.8183\n",
      "Epoch 36/50\n",
      "188/188 [==============================] - 111s 592ms/step - loss: 0.0155 - accuracy: 0.9948 - val_loss: 0.9845 - val_accuracy: 0.8317\n",
      "Epoch 37/50\n",
      "188/188 [==============================] - 111s 589ms/step - loss: 0.0265 - accuracy: 0.9913 - val_loss: 1.0911 - val_accuracy: 0.8139\n",
      "Epoch 38/50\n",
      "188/188 [==============================] - 110s 586ms/step - loss: 0.0410 - accuracy: 0.9865 - val_loss: 0.9199 - val_accuracy: 0.8344\n",
      "Epoch 39/50\n",
      "188/188 [==============================] - 117s 624ms/step - loss: 0.0025 - accuracy: 0.9998 - val_loss: 1.0155 - val_accuracy: 0.8428\n",
      "Epoch 40/50\n",
      "188/188 [==============================] - 116s 617ms/step - loss: 3.3759e-04 - accuracy: 1.0000 - val_loss: 1.0461 - val_accuracy: 0.8406\n",
      "Epoch 41/50\n",
      "188/188 [==============================] - 121s 643ms/step - loss: 1.0499e-04 - accuracy: 1.0000 - val_loss: 1.0817 - val_accuracy: 0.8411\n",
      "Epoch 42/50\n",
      "188/188 [==============================] - 119s 633ms/step - loss: 7.1065e-05 - accuracy: 1.0000 - val_loss: 1.1042 - val_accuracy: 0.8428\n",
      "Epoch 43/50\n",
      "188/188 [==============================] - 113s 599ms/step - loss: 5.4244e-05 - accuracy: 1.0000 - val_loss: 1.1244 - val_accuracy: 0.8439\n",
      "Epoch 44/50\n",
      "188/188 [==============================] - 113s 602ms/step - loss: 4.3282e-05 - accuracy: 1.0000 - val_loss: 1.1434 - val_accuracy: 0.8456\n",
      "Epoch 45/50\n",
      "188/188 [==============================] - 112s 593ms/step - loss: 3.5427e-05 - accuracy: 1.0000 - val_loss: 1.1602 - val_accuracy: 0.8456\n",
      "Epoch 46/50\n",
      "188/188 [==============================] - 116s 617ms/step - loss: 2.9583e-05 - accuracy: 1.0000 - val_loss: 1.1768 - val_accuracy: 0.8450\n",
      "Epoch 47/50\n",
      "188/188 [==============================] - 116s 616ms/step - loss: 2.4979e-05 - accuracy: 1.0000 - val_loss: 1.1923 - val_accuracy: 0.8456\n",
      "Epoch 48/50\n",
      "188/188 [==============================] - 121s 645ms/step - loss: 2.1227e-05 - accuracy: 1.0000 - val_loss: 1.2077 - val_accuracy: 0.8456\n",
      "Epoch 49/50\n",
      "188/188 [==============================] - 110s 584ms/step - loss: 1.8246e-05 - accuracy: 1.0000 - val_loss: 1.2212 - val_accuracy: 0.8456\n",
      "Epoch 50/50\n",
      "188/188 [==============================] - 110s 584ms/step - loss: 1.5738e-05 - accuracy: 1.0000 - val_loss: 1.2359 - val_accuracy: 0.8456\n"
     ]
    }
   ],
   "source": [
    "\n",
    "history=model.fit( train_generator,  \n",
    "                    validation_data = validation_generator,\n",
    "                    epochs=50\n",
    "                  )    "
   ]
  },
  {
   "cell_type": "code",
   "execution_count": 11,
   "metadata": {},
   "outputs": [
    {
     "name": "stdout",
     "output_type": "stream",
     "text": [
      "57/57 [==============================] - 9s 152ms/step - loss: 1.2359 - accuracy: 0.8456\n",
      "Test accuracy: 0.8455555438995361\n"
     ]
    }
   ],
   "source": [
    "# Evaluate the model on the test set\n",
    "test_loss, test_acc = model.evaluate(validation_generator)\n",
    "print('Test accuracy:', test_acc)"
   ]
  },
  {
   "cell_type": "code",
   "execution_count": 9,
   "metadata": {
    "colab": {
     "base_uri": "https://localhost:8080/",
     "height": 573
    },
    "id": "6e_27tFuLeNK",
    "outputId": "ba093684-e78a-4d8e-ac03-120182087e7c"
   },
   "outputs": [
    {
     "data": {
      "image/png": "[encoded data removed]",
      "text/plain": [
       "<Figure size 432x288 with 1 Axes>"
      ]
     },
     "metadata": {
      "needs_background": "light"
     },
     "output_type": "display_data"
    },
    {
     "data": {
      "image/png": "[encoded data removed]",
      "text/plain": [
       "<Figure size 432x288 with 1 Axes>"
      ]
     },
     "metadata": {
      "needs_background": "light"
     },
     "output_type": "display_data"
    }
   ],
   "source": [
    "\n",
    "# Train the model and record the training history\n",
    "#history = model.fit(X_train, y_train, epochs=10, validation_data=(X_test, y_test))\n",
    "\n",
    "# Plot the training and validation accuracy curves\n",
    "plt.plot(history.history['accuracy'])\n",
    "plt.plot(history.history['val_accuracy'])\n",
    "plt.title('Model Accuracy')\n",
    "plt.ylabel('Accuracy')\n",
    "plt.xlabel('Epoch')\n",
    "plt.legend(['Train', 'Validation'], loc='upper left')\n",
    "plt.show()\n",
    "\n",
    "# Plot the training and validation loss curves\n",
    "plt.plot(history.history['loss'])\n",
    "plt.plot(history.history['val_loss'])\n",
    "plt.title('Model2 Loss')\n",
    "plt.ylabel('Loss')\n",
    "plt.xlabel('Epoch')\n",
    "plt.legend(['Train', 'Validation'], loc='upper right')\n",
    "plt.show()"
   ]
  },
  {
   "cell_type": "code",
   "execution_count": null,
   "metadata": {
    "id": "iF6RUkPeh7Hc"
   },
   "outputs": [],
   "source": []
  },
  {
   "cell_type": "code",
   "execution_count": 10,
   "metadata": {
    "colab": {
     "base_uri": "https://localhost:8080/"
    },
    "id": "DQ_S9q3ZfDxx",
    "outputId": "4e9e8466-bb5c-4581-b44b-33ea0e2364bd"
   },
   "outputs": [
    {
     "name": "stdout",
     "output_type": "stream",
     "text": [
      "Epoch 1/50\n"
     ]
    },
    {
     "name": "stderr",
     "output_type": "stream",
     "text": [
      "C:\\Users\\yamup\\anaconda3\\lib\\site-packages\\keras\\backend.py:5676: UserWarning: \"`binary_crossentropy` received `from_logits=True`, but the `output` argument was produced by a Sigmoid activation and thus does not represent logits. Was this intended?\n",
      "  output, from_logits = _get_logits(\n"
     ]
    },
    {
     "ename": "InvalidArgumentError",
     "evalue": "Graph execution error:\n\nDetected at node 'binary_crossentropy/logistic_loss/mul' defined at (most recent call last):\n    File \"C:\\Users\\yamup\\anaconda3\\lib\\runpy.py\", line 194, in _run_module_as_main\n      return _run_code(code, main_globals, None,\n    File \"C:\\Users\\yamup\\anaconda3\\lib\\runpy.py\", line 87, in _run_code\n      exec(code, run_globals)\n    File \"C:\\Users\\yamup\\anaconda3\\lib\\site-packages\\ipykernel_launcher.py\", line 16, in <module>\n      app.launch_new_instance()\n    File \"C:\\Users\\yamup\\anaconda3\\lib\\site-packages\\traitlets\\config\\application.py\", line 845, in launch_instance\n      app.start()\n    File \"C:\\Users\\yamup\\anaconda3\\lib\\site-packages\\ipykernel\\kernelapp.py\", line 612, in start\n      self.io_loop.start()\n    File \"C:\\Users\\yamup\\anaconda3\\lib\\site-packages\\tornado\\platform\\asyncio.py\", line 199, in start\n      self.asyncio_loop.run_forever()\n    File \"C:\\Users\\yamup\\anaconda3\\lib\\asyncio\\base_events.py\", line 570, in run_forever\n      self._run_once()\n    File \"C:\\Users\\yamup\\anaconda3\\lib\\asyncio\\base_events.py\", line 1859, in _run_once\n      handle._run()\n    File \"C:\\Users\\yamup\\anaconda3\\lib\\asyncio\\events.py\", line 81, in _run\n      self._context.run(self._callback, *self._args)\n    File \"C:\\Users\\yamup\\anaconda3\\lib\\site-packages\\tornado\\ioloop.py\", line 688, in <lambda>\n      lambda f: self._run_callback(functools.partial(callback, future))\n    File \"C:\\Users\\yamup\\anaconda3\\lib\\site-packages\\tornado\\ioloop.py\", line 741, in _run_callback\n      ret = callback()\n    File \"C:\\Users\\yamup\\anaconda3\\lib\\site-packages\\tornado\\gen.py\", line 814, in inner\n      self.ctx_run(self.run)\n    File \"C:\\Users\\yamup\\anaconda3\\lib\\site-packages\\tornado\\gen.py\", line 775, in run\n      yielded = self.gen.send(value)\n    File \"C:\\Users\\yamup\\anaconda3\\lib\\site-packages\\ipykernel\\kernelbase.py\", line 365, in process_one\n      yield gen.maybe_future(dispatch(*args))\n    File \"C:\\Users\\yamup\\anaconda3\\lib\\site-packages\\tornado\\gen.py\", line 234, in wrapper\n      yielded = ctx_run(next, result)\n    File \"C:\\Users\\yamup\\anaconda3\\lib\\site-packages\\ipykernel\\kernelbase.py\", line 268, in dispatch_shell\n      yield gen.maybe_future(handler(stream, idents, msg))\n    File \"C:\\Users\\yamup\\anaconda3\\lib\\site-packages\\tornado\\gen.py\", line 234, in wrapper\n      yielded = ctx_run(next, result)\n    File \"C:\\Users\\yamup\\anaconda3\\lib\\site-packages\\ipykernel\\kernelbase.py\", line 543, in execute_request\n      self.do_execute(\n    File \"C:\\Users\\yamup\\anaconda3\\lib\\site-packages\\tornado\\gen.py\", line 234, in wrapper\n      yielded = ctx_run(next, result)\n    File \"C:\\Users\\yamup\\anaconda3\\lib\\site-packages\\ipykernel\\ipkernel.py\", line 306, in do_execute\n      res = shell.run_cell(code, store_history=store_history, silent=silent)\n    File \"C:\\Users\\yamup\\anaconda3\\lib\\site-packages\\ipykernel\\zmqshell.py\", line 536, in run_cell\n      return super(ZMQInteractiveShell, self).run_cell(*args, **kwargs)\n    File \"C:\\Users\\yamup\\anaconda3\\lib\\site-packages\\IPython\\core\\interactiveshell.py\", line 2894, in run_cell\n      result = self._run_cell(\n    File \"C:\\Users\\yamup\\anaconda3\\lib\\site-packages\\IPython\\core\\interactiveshell.py\", line 2940, in _run_cell\n      return runner(coro)\n    File \"C:\\Users\\yamup\\anaconda3\\lib\\site-packages\\IPython\\core\\async_helpers.py\", line 68, in _pseudo_sync_runner\n      coro.send(None)\n    File \"C:\\Users\\yamup\\anaconda3\\lib\\site-packages\\IPython\\core\\interactiveshell.py\", line 3165, in run_cell_async\n      has_raised = await self.run_ast_nodes(code_ast.body, cell_name,\n    File \"C:\\Users\\yamup\\anaconda3\\lib\\site-packages\\IPython\\core\\interactiveshell.py\", line 3357, in run_ast_nodes\n      if (await self.run_code(code, result,  async_=asy)):\n    File \"C:\\Users\\yamup\\anaconda3\\lib\\site-packages\\IPython\\core\\interactiveshell.py\", line 3437, in run_code\n      exec(code_obj, self.user_global_ns, self.user_ns)\n    File \"<ipython-input-10-93caf653eb7e>\", line 44, in <module>\n      history1 = model1.fit(train_generator, epochs=50, validation_data=validation_generator, callbacks=[early_stop])\n    File \"C:\\Users\\yamup\\anaconda3\\lib\\site-packages\\keras\\utils\\traceback_utils.py\", line 65, in error_handler\n      return fn(*args, **kwargs)\n    File \"C:\\Users\\yamup\\anaconda3\\lib\\site-packages\\keras\\engine\\training.py\", line 1650, in fit\n      tmp_logs = self.train_function(iterator)\n    File \"C:\\Users\\yamup\\anaconda3\\lib\\site-packages\\keras\\engine\\training.py\", line 1249, in train_function\n      return step_function(self, iterator)\n    File \"C:\\Users\\yamup\\anaconda3\\lib\\site-packages\\keras\\engine\\training.py\", line 1233, in step_function\n      outputs = model.distribute_strategy.run(run_step, args=(data,))\n    File \"C:\\Users\\yamup\\anaconda3\\lib\\site-packages\\keras\\engine\\training.py\", line 1222, in run_step\n      outputs = model.train_step(data)\n    File \"C:\\Users\\yamup\\anaconda3\\lib\\site-packages\\keras\\engine\\training.py\", line 1024, in train_step\n      loss = self.compute_loss(x, y, y_pred, sample_weight)\n    File \"C:\\Users\\yamup\\anaconda3\\lib\\site-packages\\keras\\engine\\training.py\", line 1082, in compute_loss\n      return self.compiled_loss(\n    File \"C:\\Users\\yamup\\anaconda3\\lib\\site-packages\\keras\\engine\\compile_utils.py\", line 265, in __call__\n      loss_value = loss_obj(y_t, y_p, sample_weight=sw)\n    File \"C:\\Users\\yamup\\anaconda3\\lib\\site-packages\\keras\\losses.py\", line 152, in __call__\n      losses = call_fn(y_true, y_pred)\n    File \"C:\\Users\\yamup\\anaconda3\\lib\\site-packages\\keras\\losses.py\", line 284, in call\n      return ag_fn(y_true, y_pred, **self._fn_kwargs)\n    File \"C:\\Users\\yamup\\anaconda3\\lib\\site-packages\\keras\\losses.py\", line 2176, in binary_crossentropy\n      backend.binary_crossentropy(y_true, y_pred, from_logits=from_logits),\n    File \"C:\\Users\\yamup\\anaconda3\\lib\\site-packages\\keras\\backend.py\", line 5680, in binary_crossentropy\n      return tf.nn.sigmoid_cross_entropy_with_logits(\nNode: 'binary_crossentropy/logistic_loss/mul'\nIncompatible shapes: [32,1] vs. [288,1]\n\t [[{{node binary_crossentropy/logistic_loss/mul}}]] [Op:__inference_train_function_5331]",
     "output_type": "error",
     "traceback": [
      "\u001b[1;31m---------------------------------------------------------------------------\u001b[0m",
      "\u001b[1;31mInvalidArgumentError\u001b[0m                      Traceback (most recent call last)",
      "\u001b[1;32m<ipython-input-10-93caf653eb7e>\u001b[0m in \u001b[0;36m<module>\u001b[1;34m\u001b[0m\n\u001b[0;32m     42\u001b[0m \u001b[1;33m\u001b[0m\u001b[0m\n\u001b[0;32m     43\u001b[0m \u001b[1;31m# Train the model\u001b[0m\u001b[1;33m\u001b[0m\u001b[1;33m\u001b[0m\u001b[1;33m\u001b[0m\u001b[0m\n\u001b[1;32m---> 44\u001b[1;33m \u001b[0mhistory1\u001b[0m \u001b[1;33m=\u001b[0m \u001b[0mmodel1\u001b[0m\u001b[1;33m.\u001b[0m\u001b[0mfit\u001b[0m\u001b[1;33m(\u001b[0m\u001b[0mtrain_generator\u001b[0m\u001b[1;33m,\u001b[0m \u001b[0mepochs\u001b[0m\u001b[1;33m=\u001b[0m\u001b[1;36m50\u001b[0m\u001b[1;33m,\u001b[0m \u001b[0mvalidation_data\u001b[0m\u001b[1;33m=\u001b[0m\u001b[0mvalidation_generator\u001b[0m\u001b[1;33m,\u001b[0m \u001b[0mcallbacks\u001b[0m\u001b[1;33m=\u001b[0m\u001b[1;33m[\u001b[0m\u001b[0mearly_stop\u001b[0m\u001b[1;33m]\u001b[0m\u001b[1;33m)\u001b[0m\u001b[1;33m\u001b[0m\u001b[1;33m\u001b[0m\u001b[0m\n\u001b[0m\u001b[0;32m     45\u001b[0m \u001b[1;33m\u001b[0m\u001b[0m\n\u001b[0;32m     46\u001b[0m \u001b[1;31m# Evaluate the model on the test set\u001b[0m\u001b[1;33m\u001b[0m\u001b[1;33m\u001b[0m\u001b[1;33m\u001b[0m\u001b[0m\n",
      "\u001b[1;32m~\\anaconda3\\lib\\site-packages\\keras\\utils\\traceback_utils.py\u001b[0m in \u001b[0;36merror_handler\u001b[1;34m(*args, **kwargs)\u001b[0m\n\u001b[0;32m     68\u001b[0m             \u001b[1;31m# To get the full stack trace, call:\u001b[0m\u001b[1;33m\u001b[0m\u001b[1;33m\u001b[0m\u001b[1;33m\u001b[0m\u001b[0m\n\u001b[0;32m     69\u001b[0m             \u001b[1;31m# `tf.debugging.disable_traceback_filtering()`\u001b[0m\u001b[1;33m\u001b[0m\u001b[1;33m\u001b[0m\u001b[1;33m\u001b[0m\u001b[0m\n\u001b[1;32m---> 70\u001b[1;33m             \u001b[1;32mraise\u001b[0m \u001b[0me\u001b[0m\u001b[1;33m.\u001b[0m\u001b[0mwith_traceback\u001b[0m\u001b[1;33m(\u001b[0m\u001b[0mfiltered_tb\u001b[0m\u001b[1;33m)\u001b[0m \u001b[1;32mfrom\u001b[0m \u001b[1;32mNone\u001b[0m\u001b[1;33m\u001b[0m\u001b[1;33m\u001b[0m\u001b[0m\n\u001b[0m\u001b[0;32m     71\u001b[0m         \u001b[1;32mfinally\u001b[0m\u001b[1;33m:\u001b[0m\u001b[1;33m\u001b[0m\u001b[1;33m\u001b[0m\u001b[0m\n\u001b[0;32m     72\u001b[0m             \u001b[1;32mdel\u001b[0m \u001b[0mfiltered_tb\u001b[0m\u001b[1;33m\u001b[0m\u001b[1;33m\u001b[0m\u001b[0m\n",
      "\u001b[1;32m~\\anaconda3\\lib\\site-packages\\tensorflow\\python\\eager\\execute.py\u001b[0m in \u001b[0;36mquick_execute\u001b[1;34m(op_name, num_outputs, inputs, attrs, ctx, name)\u001b[0m\n\u001b[0;32m     50\u001b[0m   \u001b[1;32mtry\u001b[0m\u001b[1;33m:\u001b[0m\u001b[1;33m\u001b[0m\u001b[1;33m\u001b[0m\u001b[0m\n\u001b[0;32m     51\u001b[0m     \u001b[0mctx\u001b[0m\u001b[1;33m.\u001b[0m\u001b[0mensure_initialized\u001b[0m\u001b[1;33m(\u001b[0m\u001b[1;33m)\u001b[0m\u001b[1;33m\u001b[0m\u001b[1;33m\u001b[0m\u001b[0m\n\u001b[1;32m---> 52\u001b[1;33m     tensors = pywrap_tfe.TFE_Py_Execute(ctx._handle, device_name, op_name,\n\u001b[0m\u001b[0;32m     53\u001b[0m                                         inputs, attrs, num_outputs)\n\u001b[0;32m     54\u001b[0m   \u001b[1;32mexcept\u001b[0m \u001b[0mcore\u001b[0m\u001b[1;33m.\u001b[0m\u001b[0m_NotOkStatusException\u001b[0m \u001b[1;32mas\u001b[0m \u001b[0me\u001b[0m\u001b[1;33m:\u001b[0m\u001b[1;33m\u001b[0m\u001b[1;33m\u001b[0m\u001b[0m\n",
      "\u001b[1;31mInvalidArgumentError\u001b[0m: Graph execution error:\n\nDetected at node 'binary_crossentropy/logistic_loss/mul' defined at (most recent call last):\n    File \"C:\\Users\\yamup\\anaconda3\\lib\\runpy.py\", line 194, in _run_module_as_main\n      return _run_code(code, main_globals, None,\n    File \"C:\\Users\\yamup\\anaconda3\\lib\\runpy.py\", line 87, in _run_code\n      exec(code, run_globals)\n    File \"C:\\Users\\yamup\\anaconda3\\lib\\site-packages\\ipykernel_launcher.py\", line 16, in <module>\n      app.launch_new_instance()\n    File \"C:\\Users\\yamup\\anaconda3\\lib\\site-packages\\traitlets\\config\\application.py\", line 845, in launch_instance\n      app.start()\n    File \"C:\\Users\\yamup\\anaconda3\\lib\\site-packages\\ipykernel\\kernelapp.py\", line 612, in start\n      self.io_loop.start()\n    File \"C:\\Users\\yamup\\anaconda3\\lib\\site-packages\\tornado\\platform\\asyncio.py\", line 199, in start\n      self.asyncio_loop.run_forever()\n    File \"C:\\Users\\yamup\\anaconda3\\lib\\asyncio\\base_events.py\", line 570, in run_forever\n      self._run_once()\n    File \"C:\\Users\\yamup\\anaconda3\\lib\\asyncio\\base_events.py\", line 1859, in _run_once\n      handle._run()\n    File \"C:\\Users\\yamup\\anaconda3\\lib\\asyncio\\events.py\", line 81, in _run\n      self._context.run(self._callback, *self._args)\n    File \"C:\\Users\\yamup\\anaconda3\\lib\\site-packages\\tornado\\ioloop.py\", line 688, in <lambda>\n      lambda f: self._run_callback(functools.partial(callback, future))\n    File \"C:\\Users\\yamup\\anaconda3\\lib\\site-packages\\tornado\\ioloop.py\", line 741, in _run_callback\n      ret = callback()\n    File \"C:\\Users\\yamup\\anaconda3\\lib\\site-packages\\tornado\\gen.py\", line 814, in inner\n      self.ctx_run(self.run)\n    File \"C:\\Users\\yamup\\anaconda3\\lib\\site-packages\\tornado\\gen.py\", line 775, in run\n      yielded = self.gen.send(value)\n    File \"C:\\Users\\yamup\\anaconda3\\lib\\site-packages\\ipykernel\\kernelbase.py\", line 365, in process_one\n      yield gen.maybe_future(dispatch(*args))\n    File \"C:\\Users\\yamup\\anaconda3\\lib\\site-packages\\tornado\\gen.py\", line 234, in wrapper\n      yielded = ctx_run(next, result)\n    File \"C:\\Users\\yamup\\anaconda3\\lib\\site-packages\\ipykernel\\kernelbase.py\", line 268, in dispatch_shell\n      yield gen.maybe_future(handler(stream, idents, msg))\n    File \"C:\\Users\\yamup\\anaconda3\\lib\\site-packages\\tornado\\gen.py\", line 234, in wrapper\n      yielded = ctx_run(next, result)\n    File \"C:\\Users\\yamup\\anaconda3\\lib\\site-packages\\ipykernel\\kernelbase.py\", line 543, in execute_request\n      self.do_execute(\n    File \"C:\\Users\\yamup\\anaconda3\\lib\\site-packages\\tornado\\gen.py\", line 234, in wrapper\n      yielded = ctx_run(next, result)\n    File \"C:\\Users\\yamup\\anaconda3\\lib\\site-packages\\ipykernel\\ipkernel.py\", line 306, in do_execute\n      res = shell.run_cell(code, store_history=store_history, silent=silent)\n    File \"C:\\Users\\yamup\\anaconda3\\lib\\site-packages\\ipykernel\\zmqshell.py\", line 536, in run_cell\n      return super(ZMQInteractiveShell, self).run_cell(*args, **kwargs)\n    File \"C:\\Users\\yamup\\anaconda3\\lib\\site-packages\\IPython\\core\\interactiveshell.py\", line 2894, in run_cell\n      result = self._run_cell(\n    File \"C:\\Users\\yamup\\anaconda3\\lib\\site-packages\\IPython\\core\\interactiveshell.py\", line 2940, in _run_cell\n      return runner(coro)\n    File \"C:\\Users\\yamup\\anaconda3\\lib\\site-packages\\IPython\\core\\async_helpers.py\", line 68, in _pseudo_sync_runner\n      coro.send(None)\n    File \"C:\\Users\\yamup\\anaconda3\\lib\\site-packages\\IPython\\core\\interactiveshell.py\", line 3165, in run_cell_async\n      has_raised = await self.run_ast_nodes(code_ast.body, cell_name,\n    File \"C:\\Users\\yamup\\anaconda3\\lib\\site-packages\\IPython\\core\\interactiveshell.py\", line 3357, in run_ast_nodes\n      if (await self.run_code(code, result,  async_=asy)):\n    File \"C:\\Users\\yamup\\anaconda3\\lib\\site-packages\\IPython\\core\\interactiveshell.py\", line 3437, in run_code\n      exec(code_obj, self.user_global_ns, self.user_ns)\n    File \"<ipython-input-10-93caf653eb7e>\", line 44, in <module>\n      history1 = model1.fit(train_generator, epochs=50, validation_data=validation_generator, callbacks=[early_stop])\n    File \"C:\\Users\\yamup\\anaconda3\\lib\\site-packages\\keras\\utils\\traceback_utils.py\", line 65, in error_handler\n      return fn(*args, **kwargs)\n    File \"C:\\Users\\yamup\\anaconda3\\lib\\site-packages\\keras\\engine\\training.py\", line 1650, in fit\n      tmp_logs = self.train_function(iterator)\n    File \"C:\\Users\\yamup\\anaconda3\\lib\\site-packages\\keras\\engine\\training.py\", line 1249, in train_function\n      return step_function(self, iterator)\n    File \"C:\\Users\\yamup\\anaconda3\\lib\\site-packages\\keras\\engine\\training.py\", line 1233, in step_function\n      outputs = model.distribute_strategy.run(run_step, args=(data,))\n    File \"C:\\Users\\yamup\\anaconda3\\lib\\site-packages\\keras\\engine\\training.py\", line 1222, in run_step\n      outputs = model.train_step(data)\n    File \"C:\\Users\\yamup\\anaconda3\\lib\\site-packages\\keras\\engine\\training.py\", line 1024, in train_step\n      loss = self.compute_loss(x, y, y_pred, sample_weight)\n    File \"C:\\Users\\yamup\\anaconda3\\lib\\site-packages\\keras\\engine\\training.py\", line 1082, in compute_loss\n      return self.compiled_loss(\n    File \"C:\\Users\\yamup\\anaconda3\\lib\\site-packages\\keras\\engine\\compile_utils.py\", line 265, in __call__\n      loss_value = loss_obj(y_t, y_p, sample_weight=sw)\n    File \"C:\\Users\\yamup\\anaconda3\\lib\\site-packages\\keras\\losses.py\", line 152, in __call__\n      losses = call_fn(y_true, y_pred)\n    File \"C:\\Users\\yamup\\anaconda3\\lib\\site-packages\\keras\\losses.py\", line 284, in call\n      return ag_fn(y_true, y_pred, **self._fn_kwargs)\n    File \"C:\\Users\\yamup\\anaconda3\\lib\\site-packages\\keras\\losses.py\", line 2176, in binary_crossentropy\n      backend.binary_crossentropy(y_true, y_pred, from_logits=from_logits),\n    File \"C:\\Users\\yamup\\anaconda3\\lib\\site-packages\\keras\\backend.py\", line 5680, in binary_crossentropy\n      return tf.nn.sigmoid_cross_entropy_with_logits(\nNode: 'binary_crossentropy/logistic_loss/mul'\nIncompatible shapes: [32,1] vs. [288,1]\n\t [[{{node binary_crossentropy/logistic_loss/mul}}]] [Op:__inference_train_function_5331]"
     ]
    }
   ],
   "source": [
    "from tensorflow.keras.models import Sequential\n",
    "from tensorflow.keras.layers import Conv2D, MaxPooling2D, Flatten, Dense, Dropout\n",
    "from tensorflow.keras.optimizers import Adam\n",
    "from tensorflow.keras.callbacks import EarlyStopping\n",
    "\n",
    "# Set up the model architecture\n",
    "model1 = Sequential()\n",
    "model1.add(Conv2D(filters=16, kernel_size=(3,3), strides=1,activation='relu', padding='same', input_shape=(64,64,3)))\n",
    "model1.add(MaxPooling2D(2,2))\n",
    "model1.add(Dropout(0.2))\n",
    "model1.add(Conv2D(filters=32, kernel_size=(3,3), strides=1,activation='relu', padding='same'))\n",
    "model1.add(MaxPooling2D(2,2))\n",
    "model1.add(Dropout(0.2))\n",
    "model1.add(Conv2D(filters=64, kernel_size=(3,3), strides=1,activation='relu', padding='same'))\n",
    "model1.add(MaxPooling2D(2,2))\n",
    "model1.add(Dropout(0.2))\n",
    "model1.add(Conv2D(filters=64, kernel_size=(3,3), strides=1,activation='relu', padding='same'))\n",
    "model1.add(MaxPooling2D(2,2))\n",
    "model1.add(Dropout(0.2))\n",
    "model1.add(Conv2D(filters=64, kernel_size=(3,3), strides=1,activation='relu', padding='same'))\n",
    "model1.add(MaxPooling2D(2,2))\n",
    "model1.add(Dropout(0.2))\n",
    "model1.add(Conv2D(filters=64, kernel_size=(3,3), strides=1,activation='relu', padding='same'))\n",
    "model1.add(MaxPooling2D(2,2))\n",
    "model1.add(Dropout(0.2))\n",
    "model1.add(Flatten())\n",
    "model1.add(Dense(512, activation='relu'))\n",
    "model1.add(Dense(1,activation='sigmoid'))\n",
    "\n",
    "# Set up the optimizer and compile the model\n",
    "# Set up the loss function and optimizer\n",
    "\n",
    "adam = Adam(lr=0.001)\n",
    "model1.compile(optimizer=adam, loss='binary_crossentropy', metrics=['accuracy'])\n",
    "# Compile the model\n",
    "#model1.compile(optimizer=optimizer, loss=loss_fn, metrics=['accuracy'])\n",
    "\n",
    "\n",
    "# Set up early stopping\n",
    "early_stop = EarlyStopping(monitor='val_loss', mode='min', verbose=1, patience=10)\n",
    "\n",
    "# Train the model\n",
    "history1 = model1.fit(train_generator, epochs=50, validation_data=validation_generator, callbacks=[early_stop])\n",
    "\n",
    "# Evaluate the model on the test set\n",
    "test_loss, test_acc = model1.evaluate(validation_generator)\n",
    "print('Test accuracy:', test_acc)\n"
   ]
  },
  {
   "cell_type": "code",
   "execution_count": 1,
   "metadata": {
    "colab": {
     "base_uri": "https://localhost:8080/",
     "height": 235
    },
    "id": "r7BGUVfHh8bm",
    "outputId": "ed7d8dce-cf28-4125-cf6d-d21325cea5d7"
   },
   "outputs": [
    {
     "ename": "NameError",
     "evalue": "ignored",
     "output_type": "error",
     "traceback": [
      "\u001b[0;31m---------------------------------------------------------------------------\u001b[0m",
      "\u001b[0;31mNameError\u001b[0m                                 Traceback (most recent call last)",
      "\u001b[0;32m<ipython-input-1-d1a36c4205cd>\u001b[0m in \u001b[0;36m<module>\u001b[0;34m\u001b[0m\n\u001b[1;32m      1\u001b[0m \u001b[0;31m# Plot the training and validation accuracy curves\u001b[0m\u001b[0;34m\u001b[0m\u001b[0;34m\u001b[0m\u001b[0m\n\u001b[0;32m----> 2\u001b[0;31m \u001b[0mplt\u001b[0m\u001b[0;34m.\u001b[0m\u001b[0mplot\u001b[0m\u001b[0;34m(\u001b[0m\u001b[0mhistory1\u001b[0m\u001b[0;34m.\u001b[0m\u001b[0mhistory\u001b[0m\u001b[0;34m[\u001b[0m\u001b[0;34m'accuracy'\u001b[0m\u001b[0;34m]\u001b[0m\u001b[0;34m)\u001b[0m\u001b[0;34m\u001b[0m\u001b[0;34m\u001b[0m\u001b[0m\n\u001b[0m\u001b[1;32m      3\u001b[0m \u001b[0mplt\u001b[0m\u001b[0;34m.\u001b[0m\u001b[0mplot\u001b[0m\u001b[0;34m(\u001b[0m\u001b[0mhistory1\u001b[0m\u001b[0;34m.\u001b[0m\u001b[0mhistory\u001b[0m\u001b[0;34m[\u001b[0m\u001b[0;34m'val_accuracy'\u001b[0m\u001b[0;34m]\u001b[0m\u001b[0;34m)\u001b[0m\u001b[0;34m\u001b[0m\u001b[0;34m\u001b[0m\u001b[0m\n\u001b[1;32m      4\u001b[0m \u001b[0mplt\u001b[0m\u001b[0;34m.\u001b[0m\u001b[0mtitle\u001b[0m\u001b[0;34m(\u001b[0m\u001b[0;34m'Model Accuracy'\u001b[0m\u001b[0;34m)\u001b[0m\u001b[0;34m\u001b[0m\u001b[0;34m\u001b[0m\u001b[0m\n\u001b[1;32m      5\u001b[0m \u001b[0mplt\u001b[0m\u001b[0;34m.\u001b[0m\u001b[0mylabel\u001b[0m\u001b[0;34m(\u001b[0m\u001b[0;34m'Accuracy'\u001b[0m\u001b[0;34m)\u001b[0m\u001b[0;34m\u001b[0m\u001b[0;34m\u001b[0m\u001b[0m\n",
      "\u001b[0;31mNameError\u001b[0m: name 'plt' is not defined"
     ]
    }
   ],
   "source": [
    "\n",
    "# Plot the training and validation accuracy curves\n",
    "plt.plot(history1.history['accuracy'])\n",
    "plt.plot(history1.history['val_accuracy'])\n",
    "plt.title('Model Accuracy')\n",
    "plt.ylabel('Accuracy')\n",
    "plt.xlabel('Epoch')\n",
    "plt.legend(['Train', 'Validation'], loc='upper left')\n",
    "plt.show()\n",
    "\n",
    "# Plot the training and validation loss curves\n",
    "plt.plot(history1.history['loss'])\n",
    "plt.plot(history1.history['val_loss'])\n",
    "plt.title('Model2 Loss')\n",
    "plt.ylabel('Loss')\n",
    "plt.xlabel('Epoch')\n",
    "plt.legend(['Train', 'Validation'], loc='upper right')\n",
    "plt.show()"
   ]
  },
  {
   "cell_type": "code",
   "execution_count": null,
   "metadata": {
    "id": "ko-zoWwjnXpc"
   },
   "outputs": [],
   "source": [
    "loss, accuracy = model1.evaluate(validation_generator)\n",
    "print('Test Loss:', loss)\n",
    "print('Test Accuracy:', accuracy)\n"
   ]
  },
  {
   "cell_type": "code",
   "execution_count": 7,
   "metadata": {
    "colab": {
     "base_uri": "https://localhost:8080/"
    },
    "id": "r4XOPWQufR3G",
    "outputId": "787f525e-cd97-4770-9700-ad721615341e"
   },
   "outputs": [
    {
     "name": "stdout",
     "output_type": "stream",
     "text": [
      "Found 6000 images belonging to 2 classes.\n",
      "Found 1800 images belonging to 2 classes.\n"
     ]
    }
   ],
   "source": [
    "# All images will be rescaled by 1./255\n",
    "train_datagen = ImageDataGenerator(rescale=1/255)\n",
    "validation_datagen = ImageDataGenerator(rescale=1/255)\n",
    "# Flow training images in batches of 32 using train_datagen generator\n",
    "train_generator1 = train_datagen.flow_from_directory(\n",
    "        '/tmp/dogs-vs-cats-vvsmall/train',  # This is the source directory for training images\n",
    "        target_size=(200, 200),  # All images will be resized to 300x300\n",
    "        batch_size=32,\n",
    "        # Since we use binary_crossentropy loss, we need binary labels\n",
    "        class_mode='binary')\n",
    "\n",
    "# Flow training images in batches of 32 using train_datagen generator\n",
    "validation_generator1 = validation_datagen.flow_from_directory(\n",
    "        '/tmp/dogs-vs-cats-vvsmall/validation',  # This is the source directory for training images\n",
    "        target_size=(200, 200),  # All images will be resized to 300x300\n",
    "        batch_size=32,\n",
    "        # Since we use binary_crossentropy loss, we need binary labels\n",
    "        class_mode='binary')"
   ]
  },
  {
   "cell_type": "code",
   "execution_count": null,
   "metadata": {
    "colab": {
     "base_uri": "https://localhost:8080/"
    },
    "id": "hBZPBe4GSttS",
    "outputId": "4f036da3-b16c-4ed6-c9d8-79eff657f384"
   },
   "outputs": [
    {
     "name": "stderr",
     "output_type": "stream",
     "text": [
      "WARNING:absl:`lr` is deprecated, please use `learning_rate` instead, or use the legacy optimizer, e.g.,tf.keras.optimizers.legacy.Adam.\n"
     ]
    },
    {
     "name": "stdout",
     "output_type": "stream",
     "text": [
      "Epoch 1/100\n",
      "188/188 [==============================] - 429s 2s/step - loss: 0.6945 - accuracy: 0.5085 - val_loss: 0.6935 - val_accuracy: 0.5000\n",
      "Epoch 2/100\n",
      "188/188 [==============================] - 420s 2s/step - loss: 0.6933 - accuracy: 0.4948 - val_loss: 0.6932 - val_accuracy: 0.5000\n",
      "Epoch 3/100\n",
      "188/188 [==============================] - 428s 2s/step - loss: 0.6938 - accuracy: 0.4965 - val_loss: 0.6929 - val_accuracy: 0.5000\n",
      "Epoch 4/100\n",
      "188/188 [==============================] - 438s 2s/step - loss: 0.6936 - accuracy: 0.5027 - val_loss: 0.6933 - val_accuracy: 0.5000\n",
      "Epoch 5/100\n",
      "188/188 [==============================] - 430s 2s/step - loss: 0.6931 - accuracy: 0.5025 - val_loss: 0.6930 - val_accuracy: 0.5000\n",
      "Epoch 6/100\n",
      "188/188 [==============================] - 421s 2s/step - loss: 0.6919 - accuracy: 0.5212 - val_loss: 0.6825 - val_accuracy: 0.5806\n",
      "Epoch 7/100\n",
      "188/188 [==============================] - 427s 2s/step - loss: 0.6906 - accuracy: 0.5420 - val_loss: 0.6922 - val_accuracy: 0.5128\n",
      "Epoch 8/100\n",
      "188/188 [==============================] - 430s 2s/step - loss: 0.6827 - accuracy: 0.5538 - val_loss: 0.6678 - val_accuracy: 0.6200\n",
      "Epoch 9/100\n",
      "188/188 [==============================] - 425s 2s/step - loss: 0.6702 - accuracy: 0.5918 - val_loss: 0.6486 - val_accuracy: 0.6161\n",
      "Epoch 10/100\n",
      "188/188 [==============================] - 428s 2s/step - loss: 0.6467 - accuracy: 0.6302 - val_loss: 0.6430 - val_accuracy: 0.6517\n",
      "Epoch 11/100\n",
      "188/188 [==============================] - 422s 2s/step - loss: 0.6383 - accuracy: 0.6357 - val_loss: 0.6324 - val_accuracy: 0.6389\n",
      "Epoch 12/100\n",
      "188/188 [==============================] - 423s 2s/step - loss: 0.6167 - accuracy: 0.6563 - val_loss: 0.5993 - val_accuracy: 0.6861\n",
      "Epoch 13/100\n",
      "188/188 [==============================] - 420s 2s/step - loss: 0.5874 - accuracy: 0.6892 - val_loss: 0.5395 - val_accuracy: 0.7417\n",
      "Epoch 14/100\n",
      "188/188 [==============================] - 418s 2s/step - loss: 0.5594 - accuracy: 0.7142 - val_loss: 0.5507 - val_accuracy: 0.7300\n",
      "Epoch 15/100\n",
      "188/188 [==============================] - 419s 2s/step - loss: 0.5407 - accuracy: 0.7215 - val_loss: 0.5217 - val_accuracy: 0.7567\n",
      "Epoch 16/100\n",
      "188/188 [==============================] - 416s 2s/step - loss: 0.5203 - accuracy: 0.7368 - val_loss: 0.5020 - val_accuracy: 0.7572\n",
      "Epoch 17/100\n",
      "188/188 [==============================] - 417s 2s/step - loss: 0.5081 - accuracy: 0.7500 - val_loss: 0.4880 - val_accuracy: 0.7700\n",
      "Epoch 18/100\n",
      "188/188 [==============================] - 418s 2s/step - loss: 0.4881 - accuracy: 0.7627 - val_loss: 0.4824 - val_accuracy: 0.7606\n",
      "Epoch 19/100\n",
      "188/188 [==============================] - 426s 2s/step - loss: 0.4652 - accuracy: 0.7832 - val_loss: 0.4699 - val_accuracy: 0.7822\n",
      "Epoch 20/100\n",
      "188/188 [==============================] - 421s 2s/step - loss: 0.4504 - accuracy: 0.7928 - val_loss: 0.4654 - val_accuracy: 0.7772\n",
      "Epoch 21/100\n",
      "188/188 [==============================] - 425s 2s/step - loss: 0.4196 - accuracy: 0.8018 - val_loss: 0.4377 - val_accuracy: 0.7978\n",
      "Epoch 22/100\n",
      "188/188 [==============================] - 425s 2s/step - loss: 0.4061 - accuracy: 0.8123 - val_loss: 0.4212 - val_accuracy: 0.8100\n",
      "Epoch 23/100\n",
      "188/188 [==============================] - 424s 2s/step - loss: 0.3971 - accuracy: 0.8238 - val_loss: 0.4528 - val_accuracy: 0.7933\n",
      "Epoch 24/100\n",
      "188/188 [==============================] - 428s 2s/step - loss: 0.3846 - accuracy: 0.8240 - val_loss: 0.4180 - val_accuracy: 0.8133\n",
      "Epoch 25/100\n",
      "188/188 [==============================] - 423s 2s/step - loss: 0.3725 - accuracy: 0.8317 - val_loss: 0.4266 - val_accuracy: 0.8211\n",
      "Epoch 26/100\n",
      "188/188 [==============================] - 426s 2s/step - loss: 0.3641 - accuracy: 0.8385 - val_loss: 0.4427 - val_accuracy: 0.7989\n",
      "Epoch 27/100\n",
      "188/188 [==============================] - 424s 2s/step - loss: 0.3499 - accuracy: 0.8457 - val_loss: 0.4503 - val_accuracy: 0.8011\n",
      "Epoch 28/100\n",
      "188/188 [==============================] - 426s 2s/step - loss: 0.3356 - accuracy: 0.8490 - val_loss: 0.3987 - val_accuracy: 0.8183\n",
      "Epoch 29/100\n",
      "188/188 [==============================] - 431s 2s/step - loss: 0.3225 - accuracy: 0.8587 - val_loss: 0.3807 - val_accuracy: 0.8400\n",
      "Epoch 30/100\n",
      "188/188 [==============================] - 455s 2s/step - loss: 0.3299 - accuracy: 0.8523 - val_loss: 0.4148 - val_accuracy: 0.8289\n",
      "Epoch 31/100\n",
      "188/188 [==============================] - 436s 2s/step - loss: 0.3055 - accuracy: 0.8710 - val_loss: 0.4008 - val_accuracy: 0.8300\n",
      "Epoch 32/100\n",
      "188/188 [==============================] - 509s 3s/step - loss: 0.3046 - accuracy: 0.8655 - val_loss: 0.3919 - val_accuracy: 0.8300\n",
      "Epoch 33/100\n",
      "188/188 [==============================] - 448s 2s/step - loss: 0.2937 - accuracy: 0.8758 - val_loss: 0.3912 - val_accuracy: 0.8306\n",
      "Epoch 34/100\n",
      "188/188 [==============================] - 428s 2s/step - loss: 0.2912 - accuracy: 0.8748 - val_loss: 0.3848 - val_accuracy: 0.8378\n",
      "Epoch 35/100\n",
      "188/188 [==============================] - 440s 2s/step - loss: 0.2683 - accuracy: 0.8832 - val_loss: 0.3901 - val_accuracy: 0.8306\n",
      "Epoch 36/100\n",
      "188/188 [==============================] - 432s 2s/step - loss: 0.2753 - accuracy: 0.8782 - val_loss: 0.3832 - val_accuracy: 0.8383\n",
      "Epoch 37/100\n",
      "116/188 [=================>............] - ETA: 2:29 - loss: 0.2804 - accuracy: 0.8842"
     ]
    }
   ],
   "source": [
    "from tensorflow.keras.models import Sequential\n",
    "from tensorflow.keras.layers import Conv2D, MaxPooling2D, Flatten, Dense, Dropout\n",
    "from tensorflow.keras.optimizers import Adam\n",
    "from tensorflow.keras.callbacks import EarlyStopping\n",
    "\n",
    "# Set up the model architecture\n",
    "model1 = Sequential()\n",
    "model1.add(Conv2D(filters=16, kernel_size=(3,3), strides=1,activation='relu', padding='same', input_shape=(200,200,3)))\n",
    "model1.add(MaxPooling2D(2,2))\n",
    "model1.add(Dropout(0.2))\n",
    "model1.add(Conv2D(filters=32, kernel_size=(3,3), strides=1,activation='relu', padding='same'))\n",
    "model1.add(MaxPooling2D(2,2))\n",
    "model1.add(Dropout(0.2))\n",
    "model1.add(Conv2D(filters=64, kernel_size=(3,3), strides=1,activation='relu', padding='same'))\n",
    "model1.add(MaxPooling2D(2,2))\n",
    "model1.add(Dropout(0.2))\n",
    "model1.add(Conv2D(filters=64, kernel_size=(3,3), strides=1,activation='relu', padding='same'))\n",
    "model1.add(MaxPooling2D(2,2))\n",
    "model1.add(Dropout(0.2))\n",
    "model1.add(Conv2D(filters=64, kernel_size=(3,3), strides=1,activation='relu', padding='same'))\n",
    "model1.add(MaxPooling2D(2,2))\n",
    "model1.add(Dropout(0.2))\n",
    "model1.add(Conv2D(filters=64, kernel_size=(3,3), strides=1,activation='relu', padding='same'))\n",
    "model1.add(MaxPooling2D(2,2))\n",
    "model1.add(Dropout(0.2))\n",
    "model1.add(Flatten())\n",
    "model1.add(Dense(512, activation='relu'))\n",
    "model1.add(Dense(1,activation='sigmoid'))\n",
    "\n",
    "# Set up the optimizer and compile the model\n",
    "adam = Adam(lr=0.001)\n",
    "model1.compile(optimizer=adam, loss='binary_crossentropy', metrics=['accuracy'])\n",
    "\n",
    "# Set up early stopping\n",
    "early_stop = EarlyStopping(monitor='val_loss', mode='min', verbose=1, patience=10)\n",
    "\n",
    "# Train the model\n",
    "history1 = model1.fit(train_generator1, epochs=100, validation_data=validation_generator1, callbacks=[early_stop])\n",
    "\n",
    "# Evaluate the model on the test set\n",
    "test_loss, test_acc = model1.evaluate(validation_generator1)\n",
    "print('Test accuracy:', test_acc)\n"
   ]
  },
  {
   "cell_type": "code",
   "execution_count": 10,
   "metadata": {
    "id": "wlSQfz01TXbA"
   },
   "outputs": [
    {
     "ename": "NameError",
     "evalue": "name 'history1' is not defined",
     "output_type": "error",
     "traceback": [
      "\u001b[1;31m---------------------------------------------------------------------------\u001b[0m",
      "\u001b[1;31mNameError\u001b[0m                                 Traceback (most recent call last)",
      "\u001b[1;32m<ipython-input-10-d1a36c4205cd>\u001b[0m in \u001b[0;36m<module>\u001b[1;34m\u001b[0m\n\u001b[0;32m      1\u001b[0m \u001b[1;31m# Plot the training and validation accuracy curves\u001b[0m\u001b[1;33m\u001b[0m\u001b[1;33m\u001b[0m\u001b[1;33m\u001b[0m\u001b[0m\n\u001b[1;32m----> 2\u001b[1;33m \u001b[0mplt\u001b[0m\u001b[1;33m.\u001b[0m\u001b[0mplot\u001b[0m\u001b[1;33m(\u001b[0m\u001b[0mhistory1\u001b[0m\u001b[1;33m.\u001b[0m\u001b[0mhistory\u001b[0m\u001b[1;33m[\u001b[0m\u001b[1;34m'accuracy'\u001b[0m\u001b[1;33m]\u001b[0m\u001b[1;33m)\u001b[0m\u001b[1;33m\u001b[0m\u001b[1;33m\u001b[0m\u001b[0m\n\u001b[0m\u001b[0;32m      3\u001b[0m \u001b[0mplt\u001b[0m\u001b[1;33m.\u001b[0m\u001b[0mplot\u001b[0m\u001b[1;33m(\u001b[0m\u001b[0mhistory1\u001b[0m\u001b[1;33m.\u001b[0m\u001b[0mhistory\u001b[0m\u001b[1;33m[\u001b[0m\u001b[1;34m'val_accuracy'\u001b[0m\u001b[1;33m]\u001b[0m\u001b[1;33m)\u001b[0m\u001b[1;33m\u001b[0m\u001b[1;33m\u001b[0m\u001b[0m\n\u001b[0;32m      4\u001b[0m \u001b[0mplt\u001b[0m\u001b[1;33m.\u001b[0m\u001b[0mtitle\u001b[0m\u001b[1;33m(\u001b[0m\u001b[1;34m'Model Accuracy'\u001b[0m\u001b[1;33m)\u001b[0m\u001b[1;33m\u001b[0m\u001b[1;33m\u001b[0m\u001b[0m\n\u001b[0;32m      5\u001b[0m \u001b[0mplt\u001b[0m\u001b[1;33m.\u001b[0m\u001b[0mylabel\u001b[0m\u001b[1;33m(\u001b[0m\u001b[1;34m'Accuracy'\u001b[0m\u001b[1;33m)\u001b[0m\u001b[1;33m\u001b[0m\u001b[1;33m\u001b[0m\u001b[0m\n",
      "\u001b[1;31mNameError\u001b[0m: name 'history1' is not defined"
     ]
    }
   ],
   "source": [
    "\n",
    "# Plot the training and validation accuracy curves\n",
    "plt.plot(history1.history['accuracy'])\n",
    "plt.plot(history1.history['val_accuracy'])\n",
    "plt.title('Model Accuracy')\n",
    "plt.ylabel('Accuracy')\n",
    "plt.xlabel('Epoch')\n",
    "plt.legend(['Train', 'Validation'], loc='upper left')\n",
    "plt.show()\n",
    "\n",
    "# Plot the training and validation loss curves\n",
    "plt.plot(history1.history['loss'])\n",
    "plt.plot(history1.history['val_loss'])\n",
    "plt.title('Model2 Loss')\n",
    "plt.ylabel('Loss')\n",
    "plt.xlabel('Epoch')\n",
    "plt.legend(['Train', 'Validation'], loc='upper right')\n",
    "plt.show()"
   ]
  },
  {
   "cell_type": "code",
   "execution_count": null,
   "metadata": {
    "id": "wwvmfVPHDyrr"
   },
   "outputs": [],
   "source": []
  },
  {
   "cell_type": "code",
   "execution_count": null,
   "metadata": {
    "id": "pokFmSyYDy40"
   },
   "outputs": [],
   "source": []
  },
  {
   "cell_type": "markdown",
   "metadata": {
    "id": "_L62gA0nDzb3"
   },
   "source": [
    "#second check with some data augmentation techniques"
   ]
  },
  {
   "cell_type": "code",
   "execution_count": 17,
   "metadata": {
    "id": "927Ish_UD5ah"
   },
   "outputs": [
    {
     "name": "stdout",
     "output_type": "stream",
     "text": [
      "Found 6000 images belonging to 2 classes.\n",
      "Found 1800 images belonging to 2 classes.\n"
     ]
    }
   ],
   "source": [
    "from tensorflow.keras.preprocessing.image import ImageDataGenerator\n",
    "train_datagen2 = ImageDataGenerator(rescale=1./255,\n",
    "                                   shear_range=0.1,\n",
    "                                   zoom_range=0.1,\n",
    "                                   horizontal_flip=True)\n",
    "test_datagen2 = ImageDataGenerator(rescale=1./255)\n",
    "\n",
    "#Training Set\n",
    "train_set2 = train_datagen2.flow_from_directory('/tmp/dogs-vs-cats-vvsmall/train',\n",
    "                                             target_size=(64,64),\n",
    "                                             batch_size=32,\n",
    "                                             class_mode='binary')\n",
    "#Validation Set\n",
    "test_set2 = test_datagen2.flow_from_directory('/tmp/dogs-vs-cats-vvsmall/validation',\n",
    "                                           target_size=(64,64),\n",
    "                                           batch_size = 32,\n",
    "                                           class_mode='binary',\n",
    "                                           shuffle=False)\n"
   ]
  },
  {
   "cell_type": "code",
   "execution_count": 21,
   "metadata": {
    "id": "qlmfBuBSFNLe"
   },
   "outputs": [],
   "source": [
    "import tensorflow\n",
    "\n",
    "from tensorflow.keras.models import Sequential\n",
    "from tensorflow.keras.layers import Conv2D, MaxPooling2D, Flatten, Dense\n",
    "model2 = Sequential()\n",
    "model2.add(Conv2D(32,(3,3),input_shape=(64,64,3),activation = 'relu'))\n",
    "model2.add(MaxPooling2D(pool_size=(2,2),strides=2)) #if stride not given it equal to pool filter size\n",
    "model2.add(Conv2D(32,(3,3),activation = 'relu'))\n",
    "model2.add(MaxPooling2D(pool_size=(2,2),strides=2))\n",
    "model2.add(Flatten())\n",
    "model2.add(Dense(units=128,activation='relu'))\n",
    "model2.add(Dense(units=1,activation='sigmoid'))\n",
    "#adam = tensorflow.keras.optimizers.Adam(learning_rate=0.001, beta_1=0.9, beta_2=0.999, epsilon=None, decay=0.0, amsgrad=False)\n",
    "model2.compile(optimizer=adam,loss='binary_crossentropy',metrics=['accuracy'])\n"
   ]
  },
  {
   "cell_type": "code",
   "execution_count": 23,
   "metadata": {
    "id": "MVbPb-ArIdmc"
   },
   "outputs": [
    {
     "name": "stdout",
     "output_type": "stream",
     "text": [
      "Epoch 1/15\n"
     ]
    },
    {
     "ename": "KeyError",
     "evalue": "in user code:\n\n    File \"C:\\Users\\yamup\\anaconda3\\lib\\site-packages\\keras\\engine\\training.py\", line 1249, in train_function  *\n        return step_function(self, iterator)\n    File \"C:\\Users\\yamup\\anaconda3\\lib\\site-packages\\keras\\engine\\training.py\", line 1233, in step_function  **\n        outputs = model.distribute_strategy.run(run_step, args=(data,))\n    File \"C:\\Users\\yamup\\anaconda3\\lib\\site-packages\\keras\\engine\\training.py\", line 1222, in run_step  **\n        outputs = model.train_step(data)\n    File \"C:\\Users\\yamup\\anaconda3\\lib\\site-packages\\keras\\engine\\training.py\", line 1027, in train_step\n        self.optimizer.minimize(loss, self.trainable_variables, tape=tape)\n    File \"C:\\Users\\yamup\\anaconda3\\lib\\site-packages\\keras\\optimizers\\optimizer_experimental\\optimizer.py\", line 527, in minimize\n        self.apply_gradients(grads_and_vars)\n    File \"C:\\Users\\yamup\\anaconda3\\lib\\site-packages\\keras\\optimizers\\optimizer_experimental\\optimizer.py\", line 1140, in apply_gradients\n        return super().apply_gradients(grads_and_vars, name=name)\n    File \"C:\\Users\\yamup\\anaconda3\\lib\\site-packages\\keras\\optimizers\\optimizer_experimental\\optimizer.py\", line 634, in apply_gradients\n        iteration = self._internal_apply_gradients(grads_and_vars)\n    File \"C:\\Users\\yamup\\anaconda3\\lib\\site-packages\\keras\\optimizers\\optimizer_experimental\\optimizer.py\", line 1166, in _internal_apply_gradients\n        return tf.__internal__.distribute.interim.maybe_merge_call(\n    File \"C:\\Users\\yamup\\anaconda3\\lib\\site-packages\\keras\\optimizers\\optimizer_experimental\\optimizer.py\", line 1216, in _distributed_apply_gradients_fn\n        distribution.extended.update(\n    File \"C:\\Users\\yamup\\anaconda3\\lib\\site-packages\\keras\\optimizers\\optimizer_experimental\\optimizer.py\", line 1213, in apply_grad_to_update_var  **\n        return self._update_step(grad, var)\n    File \"C:\\Users\\yamup\\anaconda3\\lib\\site-packages\\keras\\optimizers\\optimizer_experimental\\optimizer.py\", line 216, in _update_step\n        raise KeyError(\n\n    KeyError: 'The optimizer cannot recognize variable conv2d_36/kernel:0. This usually means you are trying to call the optimizer to update different parts of the model separately. Please call `optimizer.build(variables)` with the full list of trainable variables before the training loop or use legacy optimizer `tf.keras.optimizers.legacy.{self.__class__.__name__}.'\n",
     "output_type": "error",
     "traceback": [
      "\u001b[1;31m---------------------------------------------------------------------------\u001b[0m",
      "\u001b[1;31mKeyError\u001b[0m                                  Traceback (most recent call last)",
      "\u001b[1;32m<ipython-input-23-4829a2fe3218>\u001b[0m in \u001b[0;36m<module>\u001b[1;34m\u001b[0m\n\u001b[1;32m----> 1\u001b[1;33m history2=model2.fit(train_set2,\n\u001b[0m\u001b[0;32m      2\u001b[0m                         \u001b[1;31m#steps_per_epoch=800,\u001b[0m\u001b[1;33m\u001b[0m\u001b[1;33m\u001b[0m\u001b[1;33m\u001b[0m\u001b[0m\n\u001b[0;32m      3\u001b[0m                         \u001b[0mepochs\u001b[0m \u001b[1;33m=\u001b[0m \u001b[1;36m15\u001b[0m\u001b[1;33m,\u001b[0m\u001b[1;33m\u001b[0m\u001b[1;33m\u001b[0m\u001b[0m\n\u001b[0;32m      4\u001b[0m                         \u001b[0mvalidation_data\u001b[0m \u001b[1;33m=\u001b[0m \u001b[0mtest_set2\u001b[0m\u001b[1;33m,\u001b[0m\u001b[1;33m\u001b[0m\u001b[1;33m\u001b[0m\u001b[0m\n\u001b[0;32m      5\u001b[0m                         \u001b[1;31m#validation_steps = 20,\u001b[0m\u001b[1;33m\u001b[0m\u001b[1;33m\u001b[0m\u001b[1;33m\u001b[0m\u001b[0m\n",
      "\u001b[1;32m~\\anaconda3\\lib\\site-packages\\keras\\utils\\traceback_utils.py\u001b[0m in \u001b[0;36merror_handler\u001b[1;34m(*args, **kwargs)\u001b[0m\n\u001b[0;32m     68\u001b[0m             \u001b[1;31m# To get the full stack trace, call:\u001b[0m\u001b[1;33m\u001b[0m\u001b[1;33m\u001b[0m\u001b[1;33m\u001b[0m\u001b[0m\n\u001b[0;32m     69\u001b[0m             \u001b[1;31m# `tf.debugging.disable_traceback_filtering()`\u001b[0m\u001b[1;33m\u001b[0m\u001b[1;33m\u001b[0m\u001b[1;33m\u001b[0m\u001b[0m\n\u001b[1;32m---> 70\u001b[1;33m             \u001b[1;32mraise\u001b[0m \u001b[0me\u001b[0m\u001b[1;33m.\u001b[0m\u001b[0mwith_traceback\u001b[0m\u001b[1;33m(\u001b[0m\u001b[0mfiltered_tb\u001b[0m\u001b[1;33m)\u001b[0m \u001b[1;32mfrom\u001b[0m \u001b[1;32mNone\u001b[0m\u001b[1;33m\u001b[0m\u001b[1;33m\u001b[0m\u001b[0m\n\u001b[0m\u001b[0;32m     71\u001b[0m         \u001b[1;32mfinally\u001b[0m\u001b[1;33m:\u001b[0m\u001b[1;33m\u001b[0m\u001b[1;33m\u001b[0m\u001b[0m\n\u001b[0;32m     72\u001b[0m             \u001b[1;32mdel\u001b[0m \u001b[0mfiltered_tb\u001b[0m\u001b[1;33m\u001b[0m\u001b[1;33m\u001b[0m\u001b[0m\n",
      "\u001b[1;32m~\\anaconda3\\lib\\site-packages\\keras\\engine\\training.py\u001b[0m in \u001b[0;36mtf__train_function\u001b[1;34m(iterator)\u001b[0m\n\u001b[0;32m     13\u001b[0m                 \u001b[1;32mtry\u001b[0m\u001b[1;33m:\u001b[0m\u001b[1;33m\u001b[0m\u001b[1;33m\u001b[0m\u001b[0m\n\u001b[0;32m     14\u001b[0m                     \u001b[0mdo_return\u001b[0m \u001b[1;33m=\u001b[0m \u001b[1;32mTrue\u001b[0m\u001b[1;33m\u001b[0m\u001b[1;33m\u001b[0m\u001b[0m\n\u001b[1;32m---> 15\u001b[1;33m                     \u001b[0mretval_\u001b[0m \u001b[1;33m=\u001b[0m \u001b[0mag__\u001b[0m\u001b[1;33m.\u001b[0m\u001b[0mconverted_call\u001b[0m\u001b[1;33m(\u001b[0m\u001b[0mag__\u001b[0m\u001b[1;33m.\u001b[0m\u001b[0mld\u001b[0m\u001b[1;33m(\u001b[0m\u001b[0mstep_function\u001b[0m\u001b[1;33m)\u001b[0m\u001b[1;33m,\u001b[0m \u001b[1;33m(\u001b[0m\u001b[0mag__\u001b[0m\u001b[1;33m.\u001b[0m\u001b[0mld\u001b[0m\u001b[1;33m(\u001b[0m\u001b[0mself\u001b[0m\u001b[1;33m)\u001b[0m\u001b[1;33m,\u001b[0m \u001b[0mag__\u001b[0m\u001b[1;33m.\u001b[0m\u001b[0mld\u001b[0m\u001b[1;33m(\u001b[0m\u001b[0miterator\u001b[0m\u001b[1;33m)\u001b[0m\u001b[1;33m)\u001b[0m\u001b[1;33m,\u001b[0m \u001b[1;32mNone\u001b[0m\u001b[1;33m,\u001b[0m \u001b[0mfscope\u001b[0m\u001b[1;33m)\u001b[0m\u001b[1;33m\u001b[0m\u001b[1;33m\u001b[0m\u001b[0m\n\u001b[0m\u001b[0;32m     16\u001b[0m                 \u001b[1;32mexcept\u001b[0m\u001b[1;33m:\u001b[0m\u001b[1;33m\u001b[0m\u001b[1;33m\u001b[0m\u001b[0m\n\u001b[0;32m     17\u001b[0m                     \u001b[0mdo_return\u001b[0m \u001b[1;33m=\u001b[0m \u001b[1;32mFalse\u001b[0m\u001b[1;33m\u001b[0m\u001b[1;33m\u001b[0m\u001b[0m\n",
      "\u001b[1;31mKeyError\u001b[0m: in user code:\n\n    File \"C:\\Users\\yamup\\anaconda3\\lib\\site-packages\\keras\\engine\\training.py\", line 1249, in train_function  *\n        return step_function(self, iterator)\n    File \"C:\\Users\\yamup\\anaconda3\\lib\\site-packages\\keras\\engine\\training.py\", line 1233, in step_function  **\n        outputs = model.distribute_strategy.run(run_step, args=(data,))\n    File \"C:\\Users\\yamup\\anaconda3\\lib\\site-packages\\keras\\engine\\training.py\", line 1222, in run_step  **\n        outputs = model.train_step(data)\n    File \"C:\\Users\\yamup\\anaconda3\\lib\\site-packages\\keras\\engine\\training.py\", line 1027, in train_step\n        self.optimizer.minimize(loss, self.trainable_variables, tape=tape)\n    File \"C:\\Users\\yamup\\anaconda3\\lib\\site-packages\\keras\\optimizers\\optimizer_experimental\\optimizer.py\", line 527, in minimize\n        self.apply_gradients(grads_and_vars)\n    File \"C:\\Users\\yamup\\anaconda3\\lib\\site-packages\\keras\\optimizers\\optimizer_experimental\\optimizer.py\", line 1140, in apply_gradients\n        return super().apply_gradients(grads_and_vars, name=name)\n    File \"C:\\Users\\yamup\\anaconda3\\lib\\site-packages\\keras\\optimizers\\optimizer_experimental\\optimizer.py\", line 634, in apply_gradients\n        iteration = self._internal_apply_gradients(grads_and_vars)\n    File \"C:\\Users\\yamup\\anaconda3\\lib\\site-packages\\keras\\optimizers\\optimizer_experimental\\optimizer.py\", line 1166, in _internal_apply_gradients\n        return tf.__internal__.distribute.interim.maybe_merge_call(\n    File \"C:\\Users\\yamup\\anaconda3\\lib\\site-packages\\keras\\optimizers\\optimizer_experimental\\optimizer.py\", line 1216, in _distributed_apply_gradients_fn\n        distribution.extended.update(\n    File \"C:\\Users\\yamup\\anaconda3\\lib\\site-packages\\keras\\optimizers\\optimizer_experimental\\optimizer.py\", line 1213, in apply_grad_to_update_var  **\n        return self._update_step(grad, var)\n    File \"C:\\Users\\yamup\\anaconda3\\lib\\site-packages\\keras\\optimizers\\optimizer_experimental\\optimizer.py\", line 216, in _update_step\n        raise KeyError(\n\n    KeyError: 'The optimizer cannot recognize variable conv2d_36/kernel:0. This usually means you are trying to call the optimizer to update different parts of the model separately. Please call `optimizer.build(variables)` with the full list of trainable variables before the training loop or use legacy optimizer `tf.keras.optimizers.legacy.{self.__class__.__name__}.'\n"
     ]
    }
   ],
   "source": [
    "history2=model2.fit(train_set2,\n",
    "                        #steps_per_epoch=800, \n",
    "                        epochs = 15,\n",
    "                        validation_data = test_set2,\n",
    "                        #validation_steps = 20, \n",
    "                        #callbacks=[tensorboard]\n",
    "                        callbacks=[early_stop]\n",
    "                        );"
   ]
  },
  {
   "cell_type": "code",
   "execution_count": null,
   "metadata": {
    "id": "50_U7p30ItzH"
   },
   "outputs": [],
   "source": [
    "history2.summary()"
   ]
  },
  {
   "cell_type": "code",
   "execution_count": null,
   "metadata": {
    "id": "PsJm3asHJCKh"
   },
   "outputs": [],
   "source": [
    "# Evaluate the model on the test set\n",
    "test_loss, test_acc = model2.evaluate(test_set2)\n",
    "print('Test accuracy:', test_acc)"
   ]
  },
  {
   "cell_type": "code",
   "execution_count": null,
   "metadata": {
    "id": "dbslpsSaJGe5"
   },
   "outputs": [],
   "source": [
    "# Plot the training and validation accuracy curves\n",
    "plt.plot(history2.history['accuracy'])\n",
    "plt.plot(history2.history['val_accuracy'])\n",
    "plt.title('Model Accuracy')\n",
    "plt.ylabel('Accuracy')\n",
    "plt.xlabel('Epoch')\n",
    "plt.legend(['Train', 'Validation'], loc='upper left')\n",
    "plt.show()\n",
    "\n",
    "# Plot the training and validation loss curves\n",
    "plt.plot(history2.history['loss'])\n",
    "plt.plot(history2.history['val_loss'])\n",
    "plt.title('Model2 Loss')\n",
    "plt.ylabel('Loss')\n",
    "plt.xlabel('Epoch')\n",
    "plt.legend(['Train', 'Validation'], loc='upper right')\n",
    "plt.show()"
   ]
  },
  {
   "cell_type": "code",
   "execution_count": null,
   "metadata": {},
   "outputs": [],
   "source": []
  },
  {
   "cell_type": "code",
   "execution_count": 12,
   "metadata": {},
   "outputs": [
    {
     "name": "stdout",
     "output_type": "stream",
     "text": [
      "Found 6000 images belonging to 2 classes.\n",
      "Found 1800 images belonging to 2 classes.\n"
     ]
    }
   ],
   "source": [
    "from tensorflow.keras.preprocessing.image import ImageDataGenerator\n",
    "train_datagen3 = ImageDataGenerator(rescale=1./255,\n",
    "                                   shear_range=0.1,\n",
    "                                   zoom_range=0.1,\n",
    "                                   horizontal_flip=True)\n",
    "test_datagen3 = ImageDataGenerator(rescale=1./255)\n",
    "\n",
    "#Training Set\n",
    "train_set3 = train_datagen3.flow_from_directory('/tmp/dogs-vs-cats-vvsmall/train',\n",
    "                                             target_size=(200,200),\n",
    "                                             batch_size=32,\n",
    "                                             class_mode='binary')\n",
    "#Validation Set\n",
    "test_set3 = test_datagen3.flow_from_directory('/tmp/dogs-vs-cats-vvsmall/validation',\n",
    "                                           target_size=(200,200),\n",
    "                                           batch_size = 32,\n",
    "                                           class_mode='binary',\n",
    "                                           shuffle=False)"
   ]
  },
  {
   "cell_type": "code",
   "execution_count": 13,
   "metadata": {},
   "outputs": [
    {
     "name": "stdout",
     "output_type": "stream",
     "text": [
      "Model: \"sequential_1\"\n",
      "_________________________________________________________________\n",
      " Layer (type)                Output Shape              Param #   \n",
      "=================================================================\n",
      " conv2d_6 (Conv2D)           (None, 200, 200, 16)      448       \n",
      "                                                                 \n",
      " max_pooling2d_6 (MaxPooling  (None, 100, 100, 16)     0         \n",
      " 2D)                                                             \n",
      "                                                                 \n",
      " conv2d_7 (Conv2D)           (None, 100, 100, 32)      4640      \n",
      "                                                                 \n",
      " max_pooling2d_7 (MaxPooling  (None, 50, 50, 32)       0         \n",
      " 2D)                                                             \n",
      "                                                                 \n",
      " conv2d_8 (Conv2D)           (None, 50, 50, 64)        18496     \n",
      "                                                                 \n",
      " max_pooling2d_8 (MaxPooling  (None, 25, 25, 64)       0         \n",
      " 2D)                                                             \n",
      "                                                                 \n",
      " conv2d_9 (Conv2D)           (None, 25, 25, 64)        36928     \n",
      "                                                                 \n",
      " max_pooling2d_9 (MaxPooling  (None, 12, 12, 64)       0         \n",
      " 2D)                                                             \n",
      "                                                                 \n",
      " conv2d_10 (Conv2D)          (None, 12, 12, 64)        36928     \n",
      "                                                                 \n",
      " max_pooling2d_10 (MaxPoolin  (None, 6, 6, 64)         0         \n",
      " g2D)                                                            \n",
      "                                                                 \n",
      " conv2d_11 (Conv2D)          (None, 6, 6, 64)          36928     \n",
      "                                                                 \n",
      " max_pooling2d_11 (MaxPoolin  (None, 3, 3, 64)         0         \n",
      " g2D)                                                            \n",
      "                                                                 \n",
      " flatten_1 (Flatten)         (None, 576)               0         \n",
      "                                                                 \n",
      " dense_2 (Dense)             (None, 512)               295424    \n",
      "                                                                 \n",
      " dropout (Dropout)           (None, 512)               0         \n",
      "                                                                 \n",
      " dense_3 (Dense)             (None, 1)                 513       \n",
      "                                                                 \n",
      "=================================================================\n",
      "Total params: 430,305\n",
      "Trainable params: 430,305\n",
      "Non-trainable params: 0\n",
      "_________________________________________________________________\n"
     ]
    }
   ],
   "source": [
    "from tensorflow.keras.layers import Conv2D, MaxPooling2D, Flatten, Dense, Dropout\n",
    "\n",
    "model3 = Sequential()\n",
    "model3.add(Conv2D(filters=16, kernel_size=(3,3), strides=1,activation='relu', padding='same', input_shape=(200,200,3)))\n",
    "model3.add(MaxPooling2D(2,2))\n",
    "model3.add(Conv2D(filters=32, kernel_size=(3,3), strides=1,activation='relu', padding='same'))\n",
    "model3.add(MaxPooling2D(2,2))\n",
    "model3.add(Conv2D(filters=64, kernel_size=(3,3), strides=1,activation='relu', padding='same'))\n",
    "model3.add(MaxPooling2D(2,2))\n",
    "model3.add(Conv2D(filters=64, kernel_size=(3,3), strides=1,activation='relu', padding='same'))\n",
    "model3.add(MaxPooling2D(2,2))\n",
    "model3.add(Conv2D(filters=64, kernel_size=(3,3), strides=1,activation='relu', padding='same'))\n",
    "model3.add(MaxPooling2D(2,2))\n",
    "model3.add(Conv2D(filters=64, kernel_size=(3,3), strides=1,activation='relu', padding='same'))\n",
    "model3.add(MaxPooling2D(2,2))\n",
    "model3.add(Flatten())\n",
    "model3.add(Dense(512, activation='relu'))\n",
    "model3.add(Dropout(0.5))\n",
    "model3.add(Dense(1,activation='sigmoid'))\n",
    "model3.summary()"
   ]
  },
  {
   "cell_type": "code",
   "execution_count": 16,
   "metadata": {
    "scrolled": true
   },
   "outputs": [
    {
     "name": "stdout",
     "output_type": "stream",
     "text": [
      "Epoch 1/30\n",
      "188/188 [==============================] - 142s 749ms/step - loss: 0.6925 - accuracy: 0.5272 - val_loss: 0.6762 - val_accuracy: 0.6178\n",
      "Epoch 2/30\n",
      "188/188 [==============================] - 137s 728ms/step - loss: 0.6594 - accuracy: 0.6095 - val_loss: 0.6026 - val_accuracy: 0.6628\n",
      "Epoch 3/30\n",
      "188/188 [==============================] - 139s 741ms/step - loss: 0.6068 - accuracy: 0.6710 - val_loss: 0.5605 - val_accuracy: 0.7217\n",
      "Epoch 4/30\n",
      "188/188 [==============================] - 141s 748ms/step - loss: 0.5716 - accuracy: 0.7035 - val_loss: 0.5532 - val_accuracy: 0.7117\n",
      "Epoch 5/30\n",
      "188/188 [==============================] - 144s 765ms/step - loss: 0.5398 - accuracy: 0.7333 - val_loss: 0.5488 - val_accuracy: 0.7339\n",
      "Epoch 6/30\n",
      "188/188 [==============================] - 141s 748ms/step - loss: 0.4989 - accuracy: 0.7622 - val_loss: 0.5019 - val_accuracy: 0.7622\n",
      "Epoch 7/30\n",
      "188/188 [==============================] - 141s 749ms/step - loss: 0.4671 - accuracy: 0.7785 - val_loss: 0.4756 - val_accuracy: 0.7783\n",
      "Epoch 8/30\n",
      "188/188 [==============================] - 149s 791ms/step - loss: 0.4459 - accuracy: 0.7948 - val_loss: 0.4542 - val_accuracy: 0.7922\n",
      "Epoch 9/30\n",
      "188/188 [==============================] - 157s 837ms/step - loss: 0.4148 - accuracy: 0.8152 - val_loss: 0.4507 - val_accuracy: 0.7894\n",
      "Epoch 10/30\n",
      "188/188 [==============================] - 149s 792ms/step - loss: 0.3667 - accuracy: 0.8398 - val_loss: 0.4374 - val_accuracy: 0.8094\n",
      "Epoch 11/30\n",
      "188/188 [==============================] - 155s 825ms/step - loss: 0.3552 - accuracy: 0.8370 - val_loss: 0.3760 - val_accuracy: 0.8389\n",
      "Epoch 12/30\n",
      "188/188 [==============================] - 161s 858ms/step - loss: 0.3315 - accuracy: 0.8518 - val_loss: 0.3467 - val_accuracy: 0.8639\n",
      "Epoch 13/30\n",
      "188/188 [==============================] - 152s 810ms/step - loss: 0.3152 - accuracy: 0.8652 - val_loss: 0.3516 - val_accuracy: 0.8500\n",
      "Epoch 14/30\n",
      "188/188 [==============================] - 152s 806ms/step - loss: 0.2885 - accuracy: 0.8772 - val_loss: 0.3401 - val_accuracy: 0.8611\n",
      "Epoch 15/30\n",
      "188/188 [==============================] - 153s 813ms/step - loss: 0.2709 - accuracy: 0.8875 - val_loss: 0.3553 - val_accuracy: 0.8450\n",
      "Epoch 16/30\n",
      "188/188 [==============================] - 157s 833ms/step - loss: 0.2651 - accuracy: 0.8852 - val_loss: 0.3367 - val_accuracy: 0.8644\n",
      "Epoch 17/30\n",
      "188/188 [==============================] - 148s 788ms/step - loss: 0.2432 - accuracy: 0.8982 - val_loss: 0.3313 - val_accuracy: 0.8667\n",
      "Epoch 18/30\n",
      "188/188 [==============================] - 146s 775ms/step - loss: 0.2278 - accuracy: 0.9065 - val_loss: 0.3098 - val_accuracy: 0.8789\n",
      "Epoch 19/30\n",
      "188/188 [==============================] - 145s 769ms/step - loss: 0.2097 - accuracy: 0.9152 - val_loss: 0.3198 - val_accuracy: 0.8772\n",
      "Epoch 20/30\n",
      "188/188 [==============================] - 143s 761ms/step - loss: 0.1962 - accuracy: 0.9167 - val_loss: 0.3261 - val_accuracy: 0.8806\n",
      "Epoch 21/30\n",
      "188/188 [==============================] - 144s 766ms/step - loss: 0.2031 - accuracy: 0.9170 - val_loss: 0.3098 - val_accuracy: 0.8761\n",
      "Epoch 22/30\n",
      "188/188 [==============================] - 146s 775ms/step - loss: 0.1679 - accuracy: 0.9302 - val_loss: 0.3320 - val_accuracy: 0.8872\n",
      "Epoch 23/30\n",
      "188/188 [==============================] - 145s 769ms/step - loss: 0.1704 - accuracy: 0.9305 - val_loss: 0.3542 - val_accuracy: 0.8750\n",
      "Epoch 24/30\n",
      "188/188 [==============================] - 143s 760ms/step - loss: 0.1520 - accuracy: 0.9392 - val_loss: 0.3273 - val_accuracy: 0.8856\n",
      "Epoch 25/30\n",
      "188/188 [==============================] - 142s 754ms/step - loss: 0.1629 - accuracy: 0.9342 - val_loss: 0.3030 - val_accuracy: 0.8828\n",
      "Epoch 26/30\n",
      "188/188 [==============================] - 142s 752ms/step - loss: 0.1539 - accuracy: 0.9363 - val_loss: 0.3288 - val_accuracy: 0.8878\n",
      "Epoch 27/30\n",
      "188/188 [==============================] - 144s 765ms/step - loss: 0.1483 - accuracy: 0.9427 - val_loss: 0.3484 - val_accuracy: 0.8722\n",
      "Epoch 28/30\n",
      "188/188 [==============================] - 144s 764ms/step - loss: 0.1429 - accuracy: 0.9393 - val_loss: 0.3393 - val_accuracy: 0.8889\n",
      "Epoch 29/30\n",
      "188/188 [==============================] - 1050s 6s/step - loss: 0.1319 - accuracy: 0.9442 - val_loss: 0.3352 - val_accuracy: 0.8828\n",
      "Epoch 30/30\n",
      "188/188 [==============================] - 142s 755ms/step - loss: 0.1194 - accuracy: 0.9512 - val_loss: 0.3437 - val_accuracy: 0.8889\n"
     ]
    },
    {
     "ename": "NameError",
     "evalue": "name 'validation_generator1' is not defined",
     "output_type": "error",
     "traceback": [
      "\u001b[1;31m---------------------------------------------------------------------------\u001b[0m",
      "\u001b[1;31mNameError\u001b[0m                                 Traceback (most recent call last)",
      "\u001b[1;32m<ipython-input-16-1db00808bffd>\u001b[0m in \u001b[0;36m<module>\u001b[1;34m\u001b[0m\n\u001b[0;32m     12\u001b[0m \u001b[1;33m\u001b[0m\u001b[0m\n\u001b[0;32m     13\u001b[0m \u001b[1;31m# Evaluate the model on the test set\u001b[0m\u001b[1;33m\u001b[0m\u001b[1;33m\u001b[0m\u001b[1;33m\u001b[0m\u001b[0m\n\u001b[1;32m---> 14\u001b[1;33m \u001b[0mtest_loss\u001b[0m\u001b[1;33m,\u001b[0m \u001b[0mtest_acc\u001b[0m \u001b[1;33m=\u001b[0m \u001b[0mmodel3\u001b[0m\u001b[1;33m.\u001b[0m\u001b[0mevaluate\u001b[0m\u001b[1;33m(\u001b[0m\u001b[0mvalidation_generator1\u001b[0m\u001b[1;33m)\u001b[0m\u001b[1;33m\u001b[0m\u001b[1;33m\u001b[0m\u001b[0m\n\u001b[0m\u001b[0;32m     15\u001b[0m \u001b[0mprint\u001b[0m\u001b[1;33m(\u001b[0m\u001b[1;34m'Test accuracy:'\u001b[0m\u001b[1;33m,\u001b[0m \u001b[0mtest_acc\u001b[0m\u001b[1;33m)\u001b[0m\u001b[1;33m\u001b[0m\u001b[1;33m\u001b[0m\u001b[0m\n",
      "\u001b[1;31mNameError\u001b[0m: name 'validation_generator1' is not defined"
     ]
    }
   ],
   "source": [
    "from tensorflow.keras.optimizers import Adam\n",
    "from tensorflow.keras.callbacks import EarlyStopping\n",
    "# Set up the optimizer and compile the model\n",
    "adam = Adam(learning_rate=0.001)\n",
    "model3.compile(optimizer=adam, loss='binary_crossentropy', metrics=['accuracy'])\n",
    "\n",
    "# Set up early stopping\n",
    "early_stop = EarlyStopping(monitor='val_loss', mode='min', verbose=1, patience=10)\n",
    "\n",
    "# Train the model\n",
    "history3 = model3.fit(train_set3, epochs=30, validation_data=test_set3, callbacks=[early_stop])\n",
    "\n",
    "# Evaluate the model on the test set\n",
    "test_loss, test_acc = model3.evaluate(test_set3)\n",
    "print('Test accuracy:', test_acc)\n"
   ]
  },
  {
   "cell_type": "code",
   "execution_count": null,
   "metadata": {},
   "outputs": [],
   "source": []
  },
  {
   "cell_type": "code",
   "execution_count": 17,
   "metadata": {},
   "outputs": [
    {
     "name": "stdout",
     "output_type": "stream",
     "text": [
      "57/57 [==============================] - 10s 182ms/step - loss: 0.3437 - accuracy: 0.8889\n",
      "Test accuracy: 0.8888888955116272\n"
     ]
    }
   ],
   "source": [
    "# Evaluate the model on the test set\n",
    "test_loss, test_acc = model3.evaluate(test_set3)\n",
    "print('Test accuracy:', test_acc)"
   ]
  },
  {
   "cell_type": "markdown",
   "metadata": {},
   "source": [
    "#good model is below model3"
   ]
  },
  {
   "cell_type": "code",
   "execution_count": 18,
   "metadata": {},
   "outputs": [
    {
     "data": {
      "image/png": "[encoded data removed]",
      "text/plain": [
       "<Figure size 432x288 with 1 Axes>"
      ]
     },
     "metadata": {
      "needs_background": "light"
     },
     "output_type": "display_data"
    },
    {
     "data": {
      "image/png": "[encoded data removed]",
      "text/plain": [
       "<Figure size 432x288 with 1 Axes>"
      ]
     },
     "metadata": {
      "needs_background": "light"
     },
     "output_type": "display_data"
    }
   ],
   "source": [
    "\n",
    "\n",
    "# Plot accuracy and loss over epochs\n",
    "import matplotlib.pyplot as plt\n",
    "\n",
    "# Accuracy plot\n",
    "plt.plot(history3.history['accuracy'])\n",
    "plt.plot(history3.history['val_accuracy'])\n",
    "plt.title('Model3 Accuracy')\n",
    "plt.ylabel('Accuracy')\n",
    "plt.xlabel('Epoch')\n",
    "plt.legend(['train', 'validation'], loc='upper left')\n",
    "plt.show()\n",
    "\n",
    "# Loss plot\n",
    "plt.plot(history3.history['loss'])\n",
    "plt.plot(history3.history['val_loss'])\n",
    "plt.title('Model3 Loss')\n",
    "plt.ylabel('Loss')\n",
    "plt.xlabel('Epoch')\n",
    "plt.legend(['train', 'validation'], loc='upper left')\n",
    "plt.show()"
   ]
  },
  {
   "cell_type": "code",
   "execution_count": null,
   "metadata": {},
   "outputs": [],
   "source": []
  },
  {
   "cell_type": "code",
   "execution_count": 19,
   "metadata": {},
   "outputs": [
    {
     "name": "stdout",
     "output_type": "stream",
     "text": [
      "Epoch 1/50\n",
      "188/188 [==============================] - 128s 680ms/step - loss: 0.1179 - accuracy: 0.9540 - val_loss: 0.3824 - val_accuracy: 0.8822\n",
      "Epoch 2/50\n",
      "188/188 [==============================] - 139s 740ms/step - loss: 0.1103 - accuracy: 0.9583 - val_loss: 0.3754 - val_accuracy: 0.8922\n",
      "Epoch 3/50\n",
      "188/188 [==============================] - 139s 740ms/step - loss: 0.1119 - accuracy: 0.9550 - val_loss: 0.3754 - val_accuracy: 0.8856\n",
      "Epoch 4/50\n",
      "188/188 [==============================] - 143s 762ms/step - loss: 0.0997 - accuracy: 0.9615 - val_loss: 0.3849 - val_accuracy: 0.8811\n",
      "Epoch 5/50\n",
      "188/188 [==============================] - 161s 858ms/step - loss: 0.1035 - accuracy: 0.9598 - val_loss: 0.4070 - val_accuracy: 0.8917\n",
      "Epoch 6/50\n",
      "188/188 [==============================] - 155s 822ms/step - loss: 0.1007 - accuracy: 0.9588 - val_loss: 0.4148 - val_accuracy: 0.8856\n",
      "Epoch 7/50\n",
      "188/188 [==============================] - 134s 714ms/step - loss: 0.0941 - accuracy: 0.9643 - val_loss: 0.4060 - val_accuracy: 0.8989\n",
      "Epoch 8/50\n",
      "188/188 [==============================] - 150s 796ms/step - loss: 0.0996 - accuracy: 0.9607 - val_loss: 0.3518 - val_accuracy: 0.8939\n",
      "Epoch 9/50\n",
      "188/188 [==============================] - 141s 746ms/step - loss: 0.0890 - accuracy: 0.9655 - val_loss: 0.3588 - val_accuracy: 0.8939\n",
      "Epoch 10/50\n",
      "188/188 [==============================] - 146s 776ms/step - loss: 0.0871 - accuracy: 0.9640 - val_loss: 0.3857 - val_accuracy: 0.9028\n",
      "Epoch 11/50\n",
      "188/188 [==============================] - 134s 714ms/step - loss: 0.0859 - accuracy: 0.9677 - val_loss: 0.4087 - val_accuracy: 0.8944\n",
      "Epoch 12/50\n",
      "188/188 [==============================] - 135s 720ms/step - loss: 0.0857 - accuracy: 0.9680 - val_loss: 0.4426 - val_accuracy: 0.8878\n",
      "Epoch 13/50\n",
      "188/188 [==============================] - 138s 734ms/step - loss: 0.0823 - accuracy: 0.9697 - val_loss: 0.3714 - val_accuracy: 0.9000\n",
      "Epoch 14/50\n",
      "188/188 [==============================] - 137s 728ms/step - loss: 0.0882 - accuracy: 0.9670 - val_loss: 0.4177 - val_accuracy: 0.8750\n",
      "Epoch 15/50\n",
      "188/188 [==============================] - 139s 741ms/step - loss: 0.0760 - accuracy: 0.9712 - val_loss: 0.4094 - val_accuracy: 0.8944\n",
      "Epoch 16/50\n",
      "188/188 [==============================] - 145s 768ms/step - loss: 0.0876 - accuracy: 0.9642 - val_loss: 0.4712 - val_accuracy: 0.8944\n",
      "Epoch 17/50\n",
      "188/188 [==============================] - 135s 720ms/step - loss: 0.0822 - accuracy: 0.9697 - val_loss: 0.3543 - val_accuracy: 0.8928\n",
      "Epoch 18/50\n",
      "188/188 [==============================] - 143s 759ms/step - loss: 0.0703 - accuracy: 0.9727 - val_loss: 0.4166 - val_accuracy: 0.8944\n",
      "Epoch 18: early stopping\n",
      "57/57 [==============================] - 10s 172ms/step - loss: 0.4166 - accuracy: 0.8944\n",
      "Test accuracy: 0.894444465637207\n"
     ]
    }
   ],
   "source": [
    "# Train the model\n",
    "history3 = model3.fit(train_set3, epochs=50, validation_data=test_set3, callbacks=[early_stop])\n",
    "\n",
    "# Evaluate the model on the test set\n",
    "test_loss, test_acc = model3.evaluate(test_set3)\n",
    "print('Test accuracy:', test_acc)\n"
   ]
  },
  {
   "cell_type": "code",
   "execution_count": 20,
   "metadata": {},
   "outputs": [
    {
     "name": "stdout",
     "output_type": "stream",
     "text": [
      "57/57 [==============================] - 9s 159ms/step - loss: 0.4166 - accuracy: 0.8944\n",
      "Test accuracy: 0.894444465637207\n"
     ]
    }
   ],
   "source": [
    "# Evaluate the model on the test set\n",
    "test_loss, test_acc = model3.evaluate(test_set3)\n",
    "print('Test accuracy:', test_acc)"
   ]
  },
  {
   "cell_type": "code",
   "execution_count": 21,
   "metadata": {},
   "outputs": [
    {
     "data": {
      "image/png": "[encoded data removed]",
      "text/plain": [
       "<Figure size 432x288 with 1 Axes>"
      ]
     },
     "metadata": {
      "needs_background": "light"
     },
     "output_type": "display_data"
    },
    {
     "data": {
      "image/png": "[encoded data removed]",
      "text/plain": [
       "<Figure size 432x288 with 1 Axes>"
      ]
     },
     "metadata": {
      "needs_background": "light"
     },
     "output_type": "display_data"
    }
   ],
   "source": [
    "# Accuracy plot\n",
    "plt.plot(history3.history['accuracy'])\n",
    "plt.plot(history3.history['val_accuracy'])\n",
    "plt.title('Model3 Accuracy')\n",
    "plt.ylabel('Accuracy')\n",
    "plt.xlabel('Epoch')\n",
    "plt.legend(['train', 'validation'], loc='upper left')\n",
    "plt.show()\n",
    "\n",
    "# Loss plot\n",
    "plt.plot(history3.history['loss'])\n",
    "plt.plot(history3.history['val_loss'])\n",
    "plt.title('Model3 Loss')\n",
    "plt.ylabel('Loss')\n",
    "plt.xlabel('Epoch')\n",
    "plt.legend(['train', 'validation'], loc='upper left')\n",
    "plt.show()"
   ]
  },
  {
   "cell_type": "code",
   "execution_count": null,
   "metadata": {},
   "outputs": [],
   "source": []
  },
  {
   "cell_type": "markdown",
   "metadata": {},
   "source": [
    "#check 5"
   ]
  },
  {
   "cell_type": "code",
   "execution_count": 29,
   "metadata": {},
   "outputs": [
    {
     "name": "stdout",
     "output_type": "stream",
     "text": [
      "Found 6000 images belonging to 2 classes.\n",
      "Found 1800 images belonging to 2 classes.\n",
      "Epoch 1/30\n",
      "188/188 [==============================] - 209s 1s/step - loss: 1.5456 - accuracy: 0.5118 - val_loss: 0.9232 - val_accuracy: 0.5000\n",
      "Epoch 2/30\n",
      "188/188 [==============================] - 216s 1s/step - loss: 0.8828 - accuracy: 0.5188 - val_loss: 0.8550 - val_accuracy: 0.5578\n",
      "Epoch 3/30\n",
      "188/188 [==============================] - 210s 1s/step - loss: 0.8373 - accuracy: 0.5380 - val_loss: 0.8233 - val_accuracy: 0.5150\n",
      "Epoch 4/30\n",
      "188/188 [==============================] - 218s 1s/step - loss: 0.8065 - accuracy: 0.5447 - val_loss: 0.7947 - val_accuracy: 0.5261\n",
      "Epoch 5/30\n",
      "188/188 [==============================] - 226s 1s/step - loss: 0.7838 - accuracy: 0.5535 - val_loss: 0.7777 - val_accuracy: 0.5350\n",
      "Epoch 6/30\n",
      "188/188 [==============================] - 197s 1s/step - loss: 0.7656 - accuracy: 0.5513 - val_loss: 0.7576 - val_accuracy: 0.5306\n",
      "Epoch 7/30\n",
      "188/188 [==============================] - 218s 1s/step - loss: 0.7500 - accuracy: 0.5498 - val_loss: 0.7400 - val_accuracy: 0.5611\n",
      "Epoch 8/30\n",
      "188/188 [==============================] - 223s 1s/step - loss: 0.7377 - accuracy: 0.5572 - val_loss: 0.7298 - val_accuracy: 0.5711\n",
      "Epoch 9/30\n",
      "188/188 [==============================] - 217s 1s/step - loss: 0.7271 - accuracy: 0.5573 - val_loss: 0.7223 - val_accuracy: 0.5594\n",
      "Epoch 10/30\n",
      "188/188 [==============================] - 206s 1s/step - loss: 0.7199 - accuracy: 0.5615 - val_loss: 0.7159 - val_accuracy: 0.5544\n",
      "Epoch 11/30\n",
      "188/188 [==============================] - 201s 1s/step - loss: 0.7134 - accuracy: 0.5520 - val_loss: 0.7085 - val_accuracy: 0.5628\n",
      "Epoch 12/30\n",
      "188/188 [==============================] - 231s 1s/step - loss: 0.7075 - accuracy: 0.5693 - val_loss: 0.7070 - val_accuracy: 0.5689\n",
      "Epoch 13/30\n",
      "188/188 [==============================] - 230s 1s/step - loss: 0.7049 - accuracy: 0.5642 - val_loss: 0.7021 - val_accuracy: 0.5589\n",
      "Epoch 14/30\n",
      "188/188 [==============================] - 248s 1s/step - loss: 0.7027 - accuracy: 0.5528 - val_loss: 0.7124 - val_accuracy: 0.5383\n",
      "Epoch 15/30\n",
      "188/188 [==============================] - 240s 1s/step - loss: 0.7007 - accuracy: 0.5577 - val_loss: 0.7013 - val_accuracy: 0.5383\n",
      "Epoch 16/30\n",
      "188/188 [==============================] - 217s 1s/step - loss: 0.6982 - accuracy: 0.5592 - val_loss: 0.6993 - val_accuracy: 0.5422\n",
      "Epoch 17/30\n",
      "188/188 [==============================] - 221s 1s/step - loss: 0.6976 - accuracy: 0.5558 - val_loss: 0.6960 - val_accuracy: 0.5561\n",
      "Epoch 18/30\n",
      "188/188 [==============================] - 195s 1s/step - loss: 0.6953 - accuracy: 0.5592 - val_loss: 0.6909 - val_accuracy: 0.5856\n",
      "Epoch 19/30\n",
      "188/188 [==============================] - 195s 1s/step - loss: 0.6953 - accuracy: 0.5630 - val_loss: 0.6906 - val_accuracy: 0.5761\n",
      "Epoch 20/30\n",
      "188/188 [==============================] - 196s 1s/step - loss: 0.6951 - accuracy: 0.5592 - val_loss: 0.6923 - val_accuracy: 0.5578\n",
      "Epoch 21/30\n",
      "188/188 [==============================] - 193s 1s/step - loss: 0.6935 - accuracy: 0.5590 - val_loss: 0.6909 - val_accuracy: 0.5806\n",
      "Epoch 22/30\n",
      "188/188 [==============================] - 195s 1s/step - loss: 0.6948 - accuracy: 0.5597 - val_loss: 0.6908 - val_accuracy: 0.5733\n",
      "Epoch 23/30\n",
      "188/188 [==============================] - 192s 1s/step - loss: 0.6929 - accuracy: 0.5635 - val_loss: 0.6925 - val_accuracy: 0.5583\n",
      "Epoch 24/30\n",
      "188/188 [==============================] - 192s 1s/step - loss: 0.6926 - accuracy: 0.5618 - val_loss: 0.6907 - val_accuracy: 0.5650\n",
      "Epoch 25/30\n",
      "188/188 [==============================] - 196s 1s/step - loss: 0.6924 - accuracy: 0.5670 - val_loss: 0.6992 - val_accuracy: 0.5211\n",
      "Epoch 26/30\n",
      "188/188 [==============================] - 192s 1s/step - loss: 0.6926 - accuracy: 0.5622 - val_loss: 0.6919 - val_accuracy: 0.5594\n",
      "Epoch 27/30\n",
      "188/188 [==============================] - 193s 1s/step - loss: 0.6929 - accuracy: 0.5645 - val_loss: 0.6895 - val_accuracy: 0.5756\n",
      "Epoch 28/30\n",
      "188/188 [==============================] - 192s 1s/step - loss: 0.6919 - accuracy: 0.5678 - val_loss: 0.6941 - val_accuracy: 0.5517\n",
      "Epoch 29/30\n",
      "188/188 [==============================] - 196s 1s/step - loss: 0.6920 - accuracy: 0.5672 - val_loss: 0.6895 - val_accuracy: 0.5744\n",
      "Epoch 30/30\n",
      "188/188 [==============================] - 214s 1s/step - loss: 0.6918 - accuracy: 0.5675 - val_loss: 0.6930 - val_accuracy: 0.5606\n",
      "57/57 [==============================] - 11s 194ms/step - loss: 0.6930 - accuracy: 0.5606\n",
      "Test accuracy: 0.5605555772781372\n"
     ]
    }
   ],
   "source": [
    "\n",
    "from keras import regularizers\n",
    "from tensorflow.keras.preprocessing.image import ImageDataGenerator\n",
    "train_datagen5 = ImageDataGenerator(rescale=1./255,\n",
    "                                   shear_range=0.1,\n",
    "                                   zoom_range=0.1,\n",
    "                                   horizontal_flip=True)\n",
    "test_datagen5 = ImageDataGenerator(rescale=1./255)\n",
    "\n",
    "#Training Set\n",
    "train_set5 = train_datagen5.flow_from_directory('/tmp/dogs-vs-cats-vvsmall/train',\n",
    "                                             target_size=(200,200),\n",
    "                                             batch_size=32,\n",
    "                                             class_mode='binary')\n",
    "#Validation Set\n",
    "test_set5 = test_datagen5.flow_from_directory('/tmp/dogs-vs-cats-vvsmall/validation',\n",
    "                                           target_size=(200,200),\n",
    "                                           batch_size = 32,\n",
    "                                           class_mode='binary',\n",
    "                                           shuffle=False)\n",
    "model5 = Sequential()\n",
    "\n",
    "model5.add(Conv2D(filters=32, kernel_size=(3, 3), activation='relu', input_shape=(200, 200, 3),\n",
    "                 kernel_regularizer=regularizers.l2(0.01)))  # Add weight decay regularization to convolutional layer\n",
    "model5.add(MaxPooling2D(pool_size=(2, 2)))\n",
    "\n",
    "model5.add(Conv2D(filters=64, kernel_size=(3, 3), activation='relu', kernel_regularizer=regularizers.l2(0.01)))\n",
    "model5.add(MaxPooling2D(pool_size=(2, 2)))\n",
    "\n",
    "model5.add(Flatten())\n",
    "\n",
    "model5.add(Dense(units=128, activation='relu', kernel_regularizer=regularizers.l2(0.01)))\n",
    "model5.add(Dense(units=1, activation='sigmoid', kernel_regularizer=regularizers.l2(0.01)))  # Change output layer\n",
    "\n",
    "model5.compile(optimizer='adam', loss='binary_crossentropy', metrics=['accuracy'])  # Change loss function\n",
    "\n",
    "# Set up early stopping\n",
    "early_stop = EarlyStopping(monitor='val_loss', mode='min', verbose=1, patience=10)\n",
    "\n",
    "# Train the model\n",
    "history5 = model5.fit(train_set5, epochs=30, validation_data=test_set5, callbacks=[early_stop])\n",
    "\n",
    "# Evaluate the model on the test set\n",
    "test_loss, test_acc = model5.evaluate(test_set5)\n",
    "print('Test accuracy:', test_acc)\n"
   ]
  },
  {
   "cell_type": "code",
   "execution_count": 30,
   "metadata": {},
   "outputs": [
    {
     "data": {
      "image/png": "[encoded data removed]",
      "text/plain": [
       "<Figure size 432x288 with 1 Axes>"
      ]
     },
     "metadata": {
      "needs_background": "light"
     },
     "output_type": "display_data"
    },
    {
     "data": {
      "image/png": "[encoded data removed]",
      "text/plain": [
       "<Figure size 432x288 with 1 Axes>"
      ]
     },
     "metadata": {
      "needs_background": "light"
     },
     "output_type": "display_data"
    }
   ],
   "source": [
    "# Accuracy plot\n",
    "plt.plot(history5.history['accuracy'])\n",
    "plt.plot(history5.history['val_accuracy'])\n",
    "plt.title('Model3 Accuracy')\n",
    "plt.ylabel('Accuracy')\n",
    "plt.xlabel('Epoch')\n",
    "plt.legend(['train', 'validation'], loc='upper left')\n",
    "plt.show()\n",
    "\n",
    "# Loss plot\n",
    "plt.plot(history5.history['loss'])\n",
    "plt.plot(history5.history['val_loss'])\n",
    "plt.title('Model3 Loss')\n",
    "plt.ylabel('Loss')\n",
    "plt.xlabel('Epoch')\n",
    "plt.legend(['train', 'validation'], loc='upper left')\n",
    "plt.show()"
   ]
  },
  {
   "cell_type": "code",
   "execution_count": 32,
   "metadata": {},
   "outputs": [
    {
     "name": "stdout",
     "output_type": "stream",
     "text": [
      "Epoch 1/80\n",
      "188/188 [==============================] - 183s 972ms/step - loss: 0.6933 - accuracy: 0.5578 - val_loss: 0.6901 - val_accuracy: 0.5828\n",
      "Epoch 2/80\n",
      "188/188 [==============================] - 194s 1s/step - loss: 0.6914 - accuracy: 0.5675 - val_loss: 0.6873 - val_accuracy: 0.5911\n",
      "Epoch 3/80\n",
      "188/188 [==============================] - 204s 1s/step - loss: 0.6915 - accuracy: 0.5637 - val_loss: 0.6891 - val_accuracy: 0.5828\n",
      "Epoch 4/80\n",
      "188/188 [==============================] - 195s 1s/step - loss: 0.6925 - accuracy: 0.5643 - val_loss: 0.6952 - val_accuracy: 0.5483\n",
      "Epoch 5/80\n",
      "188/188 [==============================] - 194s 1s/step - loss: 0.6924 - accuracy: 0.5632 - val_loss: 0.6873 - val_accuracy: 0.5839\n",
      "Epoch 6/80\n",
      "188/188 [==============================] - 193s 1s/step - loss: 0.6922 - accuracy: 0.5635 - val_loss: 0.6925 - val_accuracy: 0.5467\n",
      "Epoch 7/80\n",
      "188/188 [==============================] - 204s 1s/step - loss: 0.6916 - accuracy: 0.5667 - val_loss: 0.6928 - val_accuracy: 0.5494\n",
      "Epoch 8/80\n",
      "188/188 [==============================] - 197s 1s/step - loss: 0.6937 - accuracy: 0.5623 - val_loss: 0.6921 - val_accuracy: 0.5700\n",
      "Epoch 9/80\n",
      "188/188 [==============================] - 193s 1s/step - loss: 0.6915 - accuracy: 0.5698 - val_loss: 0.6882 - val_accuracy: 0.5789\n",
      "Epoch 10/80\n",
      "188/188 [==============================] - 189s 1s/step - loss: 0.6916 - accuracy: 0.5668 - val_loss: 0.6892 - val_accuracy: 0.5878\n",
      "Epoch 11/80\n",
      "188/188 [==============================] - 189s 1s/step - loss: 0.6925 - accuracy: 0.5715 - val_loss: 0.6892 - val_accuracy: 0.5894\n",
      "Epoch 12/80\n",
      "188/188 [==============================] - 188s 997ms/step - loss: 0.6923 - accuracy: 0.5615 - val_loss: 0.6940 - val_accuracy: 0.5511\n",
      "Epoch 13/80\n",
      "188/188 [==============================] - 207s 1s/step - loss: 0.6914 - accuracy: 0.5715 - val_loss: 0.6929 - val_accuracy: 0.5761\n",
      "Epoch 14/80\n",
      "188/188 [==============================] - 198s 1s/step - loss: 0.6917 - accuracy: 0.5748 - val_loss: 0.6893 - val_accuracy: 0.5772\n",
      "Epoch 15/80\n",
      "188/188 [==============================] - 196s 1s/step - loss: 0.6912 - accuracy: 0.5687 - val_loss: 0.6896 - val_accuracy: 0.5817\n",
      "Epoch 15: early stopping\n"
     ]
    }
   ],
   "source": [
    "history6 = model5.fit(train_set5, epochs=80, validation_data=test_set5, callbacks=[early_stop])\n"
   ]
  },
  {
   "cell_type": "code",
   "execution_count": 33,
   "metadata": {},
   "outputs": [
    {
     "data": {
      "image/png": "[encoded data removed]",
      "text/plain": [
       "<Figure size 432x288 with 1 Axes>"
      ]
     },
     "metadata": {
      "needs_background": "light"
     },
     "output_type": "display_data"
    },
    {
     "data": {
      "image/png": "[encoded data removed]",
      "text/plain": [
       "<Figure size 432x288 with 1 Axes>"
      ]
     },
     "metadata": {
      "needs_background": "light"
     },
     "output_type": "display_data"
    }
   ],
   "source": [
    "# Accuracy plot\n",
    "plt.plot(history6.history['accuracy'])\n",
    "plt.plot(history6.history['val_accuracy'])\n",
    "plt.title('Model3 Accuracy')\n",
    "plt.ylabel('Accuracy')\n",
    "plt.xlabel('Epoch')\n",
    "plt.legend(['train', 'validation'], loc='upper left')\n",
    "plt.show()\n",
    "\n",
    "# Loss plot\n",
    "plt.plot(history6.history['loss'])\n",
    "plt.plot(history6.history['val_loss'])\n",
    "plt.title('Model3 Loss')\n",
    "plt.ylabel('Loss')\n",
    "plt.xlabel('Epoch')\n",
    "plt.legend(['train', 'validation'], loc='upper left')\n",
    "plt.show()"
   ]
  },
  {
   "cell_type": "code",
   "execution_count": 34,
   "metadata": {},
   "outputs": [
    {
     "name": "stdout",
     "output_type": "stream",
     "text": [
      "Found 6000 images belonging to 2 classes.\n",
      "Found 1800 images belonging to 2 classes.\n"
     ]
    }
   ],
   "source": [
    "from tensorflow.keras.preprocessing.image import ImageDataGenerator\n",
    "train_datagen6 = ImageDataGenerator(rescale=1./255,\n",
    "                                   shear_range=0.1,\n",
    "                                   zoom_range=0.1,\n",
    "                                   horizontal_flip=True)\n",
    "test_datagen6 = ImageDataGenerator(rescale=1./255)\n",
    "\n",
    "#Training Set\n",
    "train_set6 = train_datagen6.flow_from_directory('/tmp/dogs-vs-cats-vvsmall/train',\n",
    "                                             target_size=(200,200),\n",
    "                                             batch_size=32,\n",
    "                                             class_mode='binary')\n",
    "#Validation Set\n",
    "test_set6 = test_datagen6.flow_from_directory('/tmp/dogs-vs-cats-vvsmall/validation',\n",
    "                                           target_size=(200,200),\n",
    "                                           batch_size = 32,\n",
    "                                           class_mode='binary',\n",
    "                                           shuffle=False)"
   ]
  },
  {
   "cell_type": "code",
   "execution_count": 36,
   "metadata": {},
   "outputs": [
    {
     "name": "stdout",
     "output_type": "stream",
     "text": [
      "Model: \"sequential_6\"\n",
      "_________________________________________________________________\n",
      " Layer (type)                Output Shape              Param #   \n",
      "=================================================================\n",
      " conv2d_20 (Conv2D)          (None, 200, 200, 24)      672       \n",
      "                                                                 \n",
      " max_pooling2d_20 (MaxPoolin  (None, 100, 100, 24)     0         \n",
      " g2D)                                                            \n",
      "                                                                 \n",
      " conv2d_21 (Conv2D)          (None, 100, 100, 32)      6944      \n",
      "                                                                 \n",
      " max_pooling2d_21 (MaxPoolin  (None, 50, 50, 32)       0         \n",
      " g2D)                                                            \n",
      "                                                                 \n",
      " conv2d_22 (Conv2D)          (None, 50, 50, 64)        18496     \n",
      "                                                                 \n",
      " max_pooling2d_22 (MaxPoolin  (None, 25, 25, 64)       0         \n",
      " g2D)                                                            \n",
      "                                                                 \n",
      " conv2d_23 (Conv2D)          (None, 25, 25, 64)        36928     \n",
      "                                                                 \n",
      " max_pooling2d_23 (MaxPoolin  (None, 12, 12, 64)       0         \n",
      " g2D)                                                            \n",
      "                                                                 \n",
      " conv2d_24 (Conv2D)          (None, 12, 12, 64)        36928     \n",
      "                                                                 \n",
      " max_pooling2d_24 (MaxPoolin  (None, 6, 6, 64)         0         \n",
      " g2D)                                                            \n",
      "                                                                 \n",
      " conv2d_25 (Conv2D)          (None, 6, 6, 64)          36928     \n",
      "                                                                 \n",
      " max_pooling2d_25 (MaxPoolin  (None, 3, 3, 64)         0         \n",
      " g2D)                                                            \n",
      "                                                                 \n",
      " flatten_6 (Flatten)         (None, 576)               0         \n",
      "                                                                 \n",
      " dense_12 (Dense)            (None, 512)               295424    \n",
      "                                                                 \n",
      " dropout_1 (Dropout)         (None, 512)               0         \n",
      "                                                                 \n",
      " dense_13 (Dense)            (None, 1)                 513       \n",
      "                                                                 \n",
      "=================================================================\n",
      "Total params: 432,833\n",
      "Trainable params: 432,833\n",
      "Non-trainable params: 0\n",
      "_________________________________________________________________\n"
     ]
    }
   ],
   "source": [
    "from tensorflow.keras.layers import Conv2D, MaxPooling2D, Flatten, Dense, Dropout\n",
    "\n",
    "model6 = Sequential()\n",
    "model6.add(Conv2D(filters=24, kernel_size=(3,3), strides=1,activation='relu', padding='same', input_shape=(200,200,3)))\n",
    "model6.add(MaxPooling2D(2,2))\n",
    "model6.add(Conv2D(filters=32, kernel_size=(3,3), strides=1,activation='relu', padding='same'))\n",
    "model6.add(MaxPooling2D(2,2))\n",
    "model6.add(Conv2D(filters=64, kernel_size=(3,3), strides=1,activation='relu', padding='same'))\n",
    "model6.add(MaxPooling2D(2,2))\n",
    "model6.add(Conv2D(filters=64, kernel_size=(3,3), strides=1,activation='relu', padding='same'))\n",
    "model6.add(MaxPooling2D(2,2))\n",
    "model6.add(Conv2D(filters=64, kernel_size=(3,3), strides=1,activation='relu', padding='same'))\n",
    "model6.add(MaxPooling2D(2,2))\n",
    "model6.add(Conv2D(filters=64, kernel_size=(3,3), strides=1,activation='relu', padding='same'))\n",
    "model6.add(MaxPooling2D(2,2))\n",
    "model6.add(Flatten())\n",
    "model6.add(Dense(512, activation='relu'))\n",
    "model6.add(Dropout(0.5))\n",
    "model6.add(Dense(1,activation='sigmoid'))\n",
    "model6.summary()"
   ]
  },
  {
   "cell_type": "code",
   "execution_count": 37,
   "metadata": {},
   "outputs": [
    {
     "name": "stdout",
     "output_type": "stream",
     "text": [
      "Epoch 1/30\n",
      "188/188 [==============================] - 168s 884ms/step - loss: 0.6942 - accuracy: 0.4977 - val_loss: 0.6931 - val_accuracy: 0.5000\n",
      "Epoch 2/30\n",
      "188/188 [==============================] - 167s 885ms/step - loss: 0.6926 - accuracy: 0.5125 - val_loss: 0.7041 - val_accuracy: 0.5683\n",
      "Epoch 3/30\n",
      "188/188 [==============================] - 155s 823ms/step - loss: 0.6884 - accuracy: 0.5398 - val_loss: 0.6760 - val_accuracy: 0.5606\n",
      "Epoch 4/30\n",
      "188/188 [==============================] - 157s 835ms/step - loss: 0.6595 - accuracy: 0.6108 - val_loss: 0.6294 - val_accuracy: 0.6506\n",
      "Epoch 5/30\n",
      "188/188 [==============================] - 158s 839ms/step - loss: 0.6252 - accuracy: 0.6615 - val_loss: 0.6133 - val_accuracy: 0.6756\n",
      "Epoch 6/30\n",
      "188/188 [==============================] - 156s 827ms/step - loss: 0.5872 - accuracy: 0.6952 - val_loss: 0.5963 - val_accuracy: 0.6767\n",
      "Epoch 7/30\n",
      "188/188 [==============================] - 167s 887ms/step - loss: 0.5497 - accuracy: 0.7247 - val_loss: 0.5248 - val_accuracy: 0.7367\n",
      "Epoch 8/30\n",
      "188/188 [==============================] - 156s 827ms/step - loss: 0.5162 - accuracy: 0.7458 - val_loss: 0.4864 - val_accuracy: 0.7694\n",
      "Epoch 9/30\n",
      "188/188 [==============================] - 153s 814ms/step - loss: 0.4820 - accuracy: 0.7708 - val_loss: 0.4878 - val_accuracy: 0.7711\n",
      "Epoch 10/30\n",
      "188/188 [==============================] - 169s 895ms/step - loss: 0.4666 - accuracy: 0.7798 - val_loss: 0.4803 - val_accuracy: 0.7678\n",
      "Epoch 11/30\n",
      "188/188 [==============================] - 147s 782ms/step - loss: 0.4402 - accuracy: 0.7952 - val_loss: 0.4170 - val_accuracy: 0.8017\n",
      "Epoch 12/30\n",
      "188/188 [==============================] - 145s 772ms/step - loss: 0.4298 - accuracy: 0.8062 - val_loss: 0.4380 - val_accuracy: 0.7944\n",
      "Epoch 13/30\n",
      "188/188 [==============================] - 144s 767ms/step - loss: 0.4074 - accuracy: 0.8127 - val_loss: 0.4171 - val_accuracy: 0.8067\n",
      "Epoch 14/30\n",
      "188/188 [==============================] - 146s 777ms/step - loss: 0.3863 - accuracy: 0.8313 - val_loss: 0.3719 - val_accuracy: 0.8367\n",
      "Epoch 15/30\n",
      "188/188 [==============================] - 143s 761ms/step - loss: 0.3600 - accuracy: 0.8408 - val_loss: 0.3896 - val_accuracy: 0.8267\n",
      "Epoch 16/30\n",
      "188/188 [==============================] - 147s 780ms/step - loss: 0.3404 - accuracy: 0.8480 - val_loss: 0.3991 - val_accuracy: 0.8178\n",
      "Epoch 17/30\n",
      "188/188 [==============================] - 151s 807ms/step - loss: 0.3385 - accuracy: 0.8532 - val_loss: 0.3969 - val_accuracy: 0.8217\n",
      "Epoch 18/30\n",
      "188/188 [==============================] - 147s 780ms/step - loss: 0.3131 - accuracy: 0.8652 - val_loss: 0.3881 - val_accuracy: 0.8350\n",
      "Epoch 19/30\n",
      "188/188 [==============================] - 151s 805ms/step - loss: 0.3095 - accuracy: 0.8662 - val_loss: 0.3906 - val_accuracy: 0.8311\n",
      "Epoch 20/30\n",
      "188/188 [==============================] - 148s 785ms/step - loss: 0.2963 - accuracy: 0.8728 - val_loss: 0.3747 - val_accuracy: 0.8417\n",
      "Epoch 21/30\n",
      "188/188 [==============================] - 144s 765ms/step - loss: 0.2713 - accuracy: 0.8817 - val_loss: 0.3656 - val_accuracy: 0.8467\n",
      "Epoch 22/30\n",
      "188/188 [==============================] - 149s 790ms/step - loss: 0.2614 - accuracy: 0.8882 - val_loss: 0.3898 - val_accuracy: 0.8406\n",
      "Epoch 23/30\n",
      "188/188 [==============================] - 144s 764ms/step - loss: 0.2448 - accuracy: 0.8972 - val_loss: 0.3676 - val_accuracy: 0.8511\n",
      "Epoch 24/30\n",
      "188/188 [==============================] - 145s 768ms/step - loss: 0.2471 - accuracy: 0.8947 - val_loss: 0.3598 - val_accuracy: 0.8539\n",
      "Epoch 25/30\n",
      "188/188 [==============================] - 146s 774ms/step - loss: 0.2342 - accuracy: 0.9037 - val_loss: 0.3636 - val_accuracy: 0.8467\n",
      "Epoch 26/30\n",
      "188/188 [==============================] - 145s 772ms/step - loss: 0.2277 - accuracy: 0.9027 - val_loss: 0.3517 - val_accuracy: 0.8550\n",
      "Epoch 27/30\n",
      "188/188 [==============================] - 147s 781ms/step - loss: 0.2094 - accuracy: 0.9120 - val_loss: 0.3555 - val_accuracy: 0.8483\n",
      "Epoch 28/30\n",
      "188/188 [==============================] - 188s 1s/step - loss: 0.2012 - accuracy: 0.9165 - val_loss: 0.3804 - val_accuracy: 0.8594\n",
      "Epoch 29/30\n",
      "188/188 [==============================] - 172s 914ms/step - loss: 0.1864 - accuracy: 0.9237 - val_loss: 0.4303 - val_accuracy: 0.8572\n",
      "Epoch 30/30\n",
      "188/188 [==============================] - 147s 780ms/step - loss: 0.1899 - accuracy: 0.9222 - val_loss: 0.3926 - val_accuracy: 0.8544\n"
     ]
    }
   ],
   "source": [
    "from tensorflow.keras.optimizers import Adam\n",
    "from tensorflow.keras.callbacks import EarlyStopping\n",
    "# Set up the optimizer and compile the model\n",
    "adam = Adam(learning_rate=0.001)\n",
    "model6.compile(optimizer=adam, loss='binary_crossentropy', metrics=['accuracy'])\n",
    "\n",
    "# Set up early stopping\n",
    "early_stop = EarlyStopping(monitor='val_loss', mode='min', verbose=1, patience=10)\n",
    "\n",
    "# Train the model\n",
    "history6 = model6.fit(train_set6, epochs=30, validation_data=test_set6, callbacks=[early_stop])"
   ]
  },
  {
   "cell_type": "code",
   "execution_count": 38,
   "metadata": {},
   "outputs": [
    {
     "name": "stdout",
     "output_type": "stream",
     "text": [
      "57/57 [==============================] - 10s 173ms/step - loss: 0.3926 - accuracy: 0.8544\n",
      "Test accuracy: 0.8544444441795349\n"
     ]
    }
   ],
   "source": [
    "# Evaluate the model on the test set\n",
    "test_loss, test_acc = model6.evaluate(test_set6)\n",
    "print('Test accuracy:', test_acc)"
   ]
  },
  {
   "cell_type": "code",
   "execution_count": 39,
   "metadata": {},
   "outputs": [
    {
     "data": {
      "image/png": "[encoded data removed]",
      "text/plain": [
       "<Figure size 432x288 with 1 Axes>"
      ]
     },
     "metadata": {
      "needs_background": "light"
     },
     "output_type": "display_data"
    },
    {
     "data": {
      "image/png": "[encoded data removed]",
      "text/plain": [
       "<Figure size 432x288 with 1 Axes>"
      ]
     },
     "metadata": {
      "needs_background": "light"
     },
     "output_type": "display_data"
    }
   ],
   "source": [
    "# Plot the training and validation accuracy curves\n",
    "plt.plot(history6.history['accuracy'])\n",
    "plt.plot(history6.history['val_accuracy'])\n",
    "plt.title('Model6 Accuracy')\n",
    "plt.ylabel('Accuracy')\n",
    "plt.xlabel('Epoch')\n",
    "plt.legend(['Train', 'Validation'], loc='upper left')\n",
    "plt.show()\n",
    "\n",
    "# Plot the training and validation loss curves\n",
    "plt.plot(history6.history['loss'])\n",
    "plt.plot(history6.history['val_loss'])\n",
    "plt.title('Model6 Loss')\n",
    "plt.ylabel('Loss')\n",
    "plt.xlabel('Epoch')\n",
    "plt.legend(['Train', 'Validation'], loc='upper right')\n",
    "plt.show()"
   ]
  },
  {
   "cell_type": "markdown",
   "metadata": {},
   "source": [
    "#model 6 and model 3 looks similar so i decided model 3 is best for this dataset its having good accuracy than model6"
   ]
  },
  {
   "cell_type": "code",
   "execution_count": null,
   "metadata": {},
   "outputs": [],
   "source": []
  }
 ],
 "metadata": {
  "colab": {
   "provenance": []
  },
  "kernelspec": {
   "display_name": "Python 3",
   "language": "python",
   "name": "python3"
  }
 },
 "nbformat": 4,
 "nbformat_minor": 1
}
