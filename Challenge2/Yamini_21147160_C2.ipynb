{
  "cells": [
    {
      "cell_type": "code",
      "execution_count": null,
      "metadata": {
        "id": "G4ZMH0taVaDT"
      },
      "outputs": [],
      "source": []
    },
    {
      "cell_type": "markdown",
      "metadata": {
        "id": "fCKhpSXAVfdI"
      },
      "source": [
        "Design your own Convolutional Neural Network to classify images from a reduced version of the\n",
        "Dogs vs Cats dataset. Use the RELU activation function and the Adam optimiser. Change the other\n",
        "parameters of the network and hyperparameters to achieve the best accuracy."
      ]
    },
    {
      "cell_type": "code",
      "execution_count": 2,
      "metadata": {
        "colab": {
          "base_uri": "https://localhost:8080/"
        },
        "id": "JQJ2nsnFYdWh",
        "outputId": "632b4b12-7113-4722-d0dc-e420b2a0e7f9"
      },
      "outputs": [
        {
          "output_type": "stream",
          "name": "stdout",
          "text": [
            "Mounted at /content/drive\n"
          ]
        }
      ],
      "source": [
        "from google.colab import drive\n",
        "drive.mount('/content/drive')\n"
      ]
    },
    {
      "cell_type": "code",
      "execution_count": 3,
      "metadata": {
        "id": "c6YAIhUXa9gM"
      },
      "outputs": [],
      "source": [
        "import zipfile\n",
        "import os\n",
        "zip_ref= zipfile.ZipFile('/content/drive/MyDrive/Deep_Learning/A2/dogs-vs-cats-vvsmall.zip','r')\n",
        "zip_ref.extractall('/tmp')\n",
        "zip_ref.close()"
      ]
    },
    {
      "cell_type": "code",
      "execution_count": 4,
      "metadata": {
        "id": "dYHVDXzKH6bL"
      },
      "outputs": [],
      "source": [
        "# load the libraries\n",
        "import os\n",
        "import zipfile\n",
        "import matplotlib.pyplot as plt\n",
        "import matplotlib.image as mpimg\n",
        "import tensorflow as tf\n",
        "from tensorflow.keras.preprocessing.image import ImageDataGenerator\n",
        "import numpy as np\n",
        "from google.colab import files\n",
        "from tensorflow.keras.preprocessing import image\n",
        "import random\n",
        "from tensorflow.keras.preprocessing.image import img_to_array, load_img\n",
        "from tensorflow import keras\n"
      ]
    },
    {
      "cell_type": "code",
      "execution_count": 5,
      "metadata": {
        "id": "rgdd3DFxeJLY"
      },
      "outputs": [],
      "source": [
        "base_dir= '/tmp/dogs-vs-cats-vvsmall' \n",
        "train_dir=os.path.join(base_dir,'train')\n",
        "validation_dir=os.path.join(base_dir,'validation')\n",
        "\n",
        "#Directory with the train cat images\n",
        "train_cat_dir=os.path.join(train_dir,'cats')\n",
        "\n",
        "#directory with the train dog images\n",
        "train_dog_dir=os.path.join(train_dir,'dogs')\n",
        "\n",
        "#directory with the validation cat images\n",
        "validation_cat_dir=os.path.join(validation_dir,'cats')\n",
        "\n",
        "#directory with the  validation dogs images\n",
        "validation_dog_dir=os.path.join(validation_dir,'dogs')"
      ]
    },
    {
      "cell_type": "markdown",
      "metadata": {
        "id": "G0KLvNPJho6c"
      },
      "source": [
        "#get the data set details"
      ]
    },
    {
      "cell_type": "code",
      "execution_count": null,
      "metadata": {
        "colab": {
          "base_uri": "https://localhost:8080/"
        },
        "id": "Hpbz8tvngU8u",
        "outputId": "7bc38294-6f18-4082-cc31-12665721541e"
      },
      "outputs": [
        {
          "name": "stdout",
          "output_type": "stream",
          "text": [
            "3000\n",
            "['cat.1688.jpg', 'cat.2091.jpg', 'cat.2582.jpg', 'cat.2337.jpg', 'cat.2388.jpg']\n"
          ]
        }
      ],
      "source": [
        "train_cat=os.listdir(train_cat_dir)\n",
        "print(len(train_cat))\n",
        "print(train_cat[:5])"
      ]
    },
    {
      "cell_type": "code",
      "execution_count": null,
      "metadata": {
        "colab": {
          "base_uri": "https://localhost:8080/"
        },
        "id": "bu5VYAugikxg",
        "outputId": "f87c11f3-3b67-4e51-f9a7-20b5d94ae549"
      },
      "outputs": [
        {
          "name": "stdout",
          "output_type": "stream",
          "text": [
            "the length of the training data set of dog is: 3000\n",
            "['dog.1538.jpg', 'dog.2857.jpg', 'dog.590.jpg', 'dog.1709.jpg', 'dog.334.jpg'] \n",
            "\n",
            "the length of the validation data set of dog is: 900\n",
            "['dog.9166.jpg', 'dog.8656.jpg', 'dog.9348.jpg', 'dog.9151.jpg', 'dog.9340.jpg'] \n",
            "\n",
            "the length of the validation data set of cat is: 900\n",
            "['dog.9166.jpg', 'dog.8656.jpg', 'dog.9348.jpg', 'dog.9151.jpg', 'dog.9340.jpg'] \n",
            "\n"
          ]
        }
      ],
      "source": [
        "train_dog=os.listdir(train_dog_dir)\n",
        "print(\"the length of the training data set of dog is:\",len(train_dog))\n",
        "print(train_dog[:5],\"\\n\")\n",
        "\n",
        "validation_dog=os.listdir(validation_dog_dir)\n",
        "print(\"the length of the validation data set of dog is:\",len(validation_dog))\n",
        "print(validation_dog[:5],\"\\n\")\n",
        "\n",
        "validation_cat=os.listdir(validation_cat_dir)\n",
        "print(\"the length of the validation data set of cat is:\",len(validation_cat))\n",
        "print(validation_dog[:5],\"\\n\")"
      ]
    },
    {
      "cell_type": "code",
      "execution_count": null,
      "metadata": {
        "colab": {
          "base_uri": "https://localhost:8080/"
        },
        "id": "ts-uSEvujrTf",
        "outputId": "72ebe0e9-bfe9-4f89-802c-de01a09edd82"
      },
      "outputs": [
        {
          "name": "stdout",
          "output_type": "stream",
          "text": [
            "Found 6000 images belonging to 2 classes.\n",
            "Found 1800 images belonging to 2 classes.\n"
          ]
        }
      ],
      "source": [
        "\n",
        "# All images will be rescaled by 1./255\n",
        "train_datagen = ImageDataGenerator(rescale=1/255)\n",
        "validation_datagen = ImageDataGenerator(rescale=1/255)\n",
        "\n",
        "# Flow training images in batches of 32 using train_datagen generator\n",
        "train_generator = train_datagen.flow_from_directory(\n",
        "        '/tmp/dogs-vs-cats-vvsmall/train',  # This is the source directory for training images\n",
        "        target_size=(300, 300),  # All images will be resized to 300x300\n",
        "        batch_size=32,\n",
        "        # Since we use binary_crossentropy loss, we need binary labels\n",
        "        class_mode='binary')\n",
        "\n",
        "# Flow training images in batches of 32 using train_datagen generator\n",
        "validation_generator = validation_datagen.flow_from_directory(\n",
        "        '/tmp/dogs-vs-cats-vvsmall/validation',  # This is the source directory for training images\n",
        "        target_size=(300, 300),  # All images will be resized to 300x300\n",
        "        batch_size=32,\n",
        "        # Since we use binary_crossentropy loss, we need binary labels\n",
        "        class_mode='binary')"
      ]
    },
    {
      "cell_type": "code",
      "execution_count": null,
      "metadata": {
        "colab": {
          "base_uri": "https://localhost:8080/"
        },
        "id": "WeHhdfmWGg-E",
        "outputId": "3a74598d-9812-4d2b-9ae5-15f7afa639a7"
      },
      "outputs": [
        {
          "name": "stdout",
          "output_type": "stream",
          "text": [
            "Model: \"sequential\"\n",
            "_________________________________________________________________\n",
            " Layer (type)                Output Shape              Param #   \n",
            "=================================================================\n",
            " conv2d (Conv2D)             (None, 300, 300, 16)      448       \n",
            "                                                                 \n",
            " max_pooling2d (MaxPooling2D  (None, 150, 150, 16)     0         \n",
            " )                                                               \n",
            "                                                                 \n",
            " conv2d_1 (Conv2D)           (None, 150, 150, 32)      4640      \n",
            "                                                                 \n",
            " max_pooling2d_1 (MaxPooling  (None, 75, 75, 32)       0         \n",
            " 2D)                                                             \n",
            "                                                                 \n",
            " conv2d_2 (Conv2D)           (None, 75, 75, 64)        18496     \n",
            "                                                                 \n",
            " max_pooling2d_2 (MaxPooling  (None, 37, 37, 64)       0         \n",
            " 2D)                                                             \n",
            "                                                                 \n",
            " conv2d_3 (Conv2D)           (None, 37, 37, 64)        36928     \n",
            "                                                                 \n",
            " max_pooling2d_3 (MaxPooling  (None, 18, 18, 64)       0         \n",
            " 2D)                                                             \n",
            "                                                                 \n",
            " conv2d_4 (Conv2D)           (None, 18, 18, 64)        36928     \n",
            "                                                                 \n",
            " max_pooling2d_4 (MaxPooling  (None, 9, 9, 64)         0         \n",
            " 2D)                                                             \n",
            "                                                                 \n",
            " conv2d_5 (Conv2D)           (None, 9, 9, 64)          36928     \n",
            "                                                                 \n",
            " max_pooling2d_5 (MaxPooling  (None, 4, 4, 64)         0         \n",
            " 2D)                                                             \n",
            "                                                                 \n",
            " flatten (Flatten)           (None, 1024)              0         \n",
            "                                                                 \n",
            " dense (Dense)               (None, 512)               524800    \n",
            "                                                                 \n",
            " dense_1 (Dense)             (None, 1)                 513       \n",
            "                                                                 \n",
            "=================================================================\n",
            "Total params: 659,681\n",
            "Trainable params: 659,681\n",
            "Non-trainable params: 0\n",
            "_________________________________________________________________\n"
          ]
        }
      ],
      "source": [
        "\n",
        "from tensorflow.keras.models import Sequential\n",
        "from tensorflow.keras.layers import Conv2D, MaxPooling2D, Flatten, Dense\n",
        "model = Sequential()\n",
        "model.add(Conv2D(filters=16, kernel_size=(3,3), strides=1,activation='relu', padding='same', input_shape=(300,300,3)))\n",
        "model.add(MaxPooling2D(2,2))\n",
        "model.add(Conv2D(filters=32, kernel_size=(3,3), strides=1,activation='relu', padding='same'))\n",
        "model.add(MaxPooling2D(2,2))\n",
        "model.add(Conv2D(filters=64, kernel_size=(3,3), strides=1,activation='relu', padding='same'))\n",
        "model.add(MaxPooling2D(2,2))\n",
        "model.add(Conv2D(filters=64, kernel_size=(3,3), strides=1,activation='relu', padding='same'))\n",
        "model.add(MaxPooling2D(2,2))\n",
        "model.add(Conv2D(filters=64, kernel_size=(3,3), strides=1,activation='relu', padding='same'))\n",
        "model.add(MaxPooling2D(2,2))\n",
        "model.add(Conv2D(filters=64, kernel_size=(3,3), strides=1,activation='relu', padding='same'))\n",
        "model.add(MaxPooling2D(2,2))\n",
        "model.add(Flatten())\n",
        "model.add(Dense(512, activation='relu'))\n",
        "model.add(Dense(1,activation='sigmoid'))\n",
        "model.summary()"
      ]
    },
    {
      "cell_type": "code",
      "execution_count": null,
      "metadata": {
        "id": "h8nbz1UgLRhl"
      },
      "outputs": [],
      "source": [
        "model.compile(loss='binary_crossentropy', optimizer='adam', metrics=['accuracy'])\n"
      ]
    },
    {
      "cell_type": "code",
      "execution_count": null,
      "metadata": {
        "colab": {
          "background_save": true,
          "base_uri": "https://localhost:8080/"
        },
        "id": "EBV7Uv4sLWpa",
        "outputId": "3d7bdea7-b001-4439-bdd1-2d3a0a58c37c"
      },
      "outputs": [
        {
          "name": "stdout",
          "output_type": "stream",
          "text": [
            "Epoch 1/15\n",
            "188/188 [==============================] - 868s 5s/step - loss: 0.6892 - accuracy: 0.5260 - val_loss: 0.6891 - val_accuracy: 0.5606\n",
            "Epoch 2/15\n",
            "188/188 [==============================] - 857s 5s/step - loss: 0.6888 - accuracy: 0.5367 - val_loss: 0.6743 - val_accuracy: 0.5906\n",
            "Epoch 3/15\n",
            "188/188 [==============================] - 828s 4s/step - loss: 0.6625 - accuracy: 0.6058 - val_loss: 0.6693 - val_accuracy: 0.5689\n",
            "Epoch 4/15\n",
            "188/188 [==============================] - 826s 4s/step - loss: 0.6236 - accuracy: 0.6568 - val_loss: 0.6292 - val_accuracy: 0.6261\n",
            "Epoch 5/15\n",
            "188/188 [==============================] - 831s 4s/step - loss: 0.5632 - accuracy: 0.7117 - val_loss: 0.5441 - val_accuracy: 0.7311\n",
            "Epoch 6/15\n",
            "188/188 [==============================] - 823s 4s/step - loss: 0.5091 - accuracy: 0.7448 - val_loss: 0.5455 - val_accuracy: 0.7250\n",
            "Epoch 7/15\n",
            "188/188 [==============================] - 802s 4s/step - loss: 0.4834 - accuracy: 0.7678 - val_loss: 0.4823 - val_accuracy: 0.7822\n",
            "Epoch 8/15\n",
            "188/188 [==============================] - 800s 4s/step - loss: 0.4386 - accuracy: 0.7953 - val_loss: 0.4831 - val_accuracy: 0.7711\n",
            "Epoch 9/15\n",
            "188/188 [==============================] - 808s 4s/step - loss: 0.3958 - accuracy: 0.8208 - val_loss: 0.4912 - val_accuracy: 0.7689\n",
            "Epoch 10/15\n",
            "188/188 [==============================] - 804s 4s/step - loss: 0.3597 - accuracy: 0.8377 - val_loss: 0.4742 - val_accuracy: 0.7800\n",
            "Epoch 11/15\n",
            "188/188 [==============================] - 806s 4s/step - loss: 0.3221 - accuracy: 0.8567 - val_loss: 0.5578 - val_accuracy: 0.7656\n",
            "Epoch 12/15\n",
            "188/188 [==============================] - 794s 4s/step - loss: 0.2738 - accuracy: 0.8825 - val_loss: 0.5442 - val_accuracy: 0.7778\n",
            "Epoch 13/15\n",
            "188/188 [==============================] - 804s 4s/step - loss: 0.2254 - accuracy: 0.9000 - val_loss: 0.5975 - val_accuracy: 0.7700\n",
            "Epoch 14/15\n",
            "188/188 [==============================] - 788s 4s/step - loss: 0.1738 - accuracy: 0.9307 - val_loss: 0.6882 - val_accuracy: 0.7756\n",
            "Epoch 15/15\n",
            "188/188 [==============================] - 801s 4s/step - loss: 0.1483 - accuracy: 0.9392 - val_loss: 0.7849 - val_accuracy: 0.7761\n"
          ]
        }
      ],
      "source": [
        "\n",
        "history=model.fit( train_generator,  \n",
        "                    validation_data = validation_generator,\n",
        "                    epochs=15\n",
        "                  )    "
      ]
    },
    {
      "cell_type": "code",
      "execution_count": 9,
      "metadata": {
        "id": "6e_27tFuLeNK",
        "colab": {
          "base_uri": "https://localhost:8080/",
          "height": 573
        },
        "outputId": "ba093684-e78a-4d8e-ac03-120182087e7c"
      },
      "outputs": [
        {
          "output_type": "display_data",
          "data": {
            "text/plain": [
              "<Figure size 432x288 with 1 Axes>"
            ],
            "image/png": "[encoded data removed]"
          },
          "metadata": {
            "needs_background": "light"
          }
        },
        {
          "output_type": "display_data",
          "data": {
            "text/plain": [
              "<Figure size 432x288 with 1 Axes>"
            ],
            "image/png": "[encoded data removed]"
          },
          "metadata": {
            "needs_background": "light"
          }
        }
      ],
      "source": [
        "\n",
        "# Train the model and record the training history\n",
        "#history = model.fit(X_train, y_train, epochs=10, validation_data=(X_test, y_test))\n",
        "\n",
        "# Plot the training and validation accuracy curves\n",
        "plt.plot(history.history['accuracy'])\n",
        "plt.plot(history.history['val_accuracy'])\n",
        "plt.title('Model Accuracy')\n",
        "plt.ylabel('Accuracy')\n",
        "plt.xlabel('Epoch')\n",
        "plt.legend(['Train', 'Validation'], loc='upper left')\n",
        "plt.show()\n",
        "\n",
        "# Plot the training and validation loss curves\n",
        "plt.plot(history.history['loss'])\n",
        "plt.plot(history.history['val_loss'])\n",
        "plt.title('Model2 Loss')\n",
        "plt.ylabel('Loss')\n",
        "plt.xlabel('Epoch')\n",
        "plt.legend(['Train', 'Validation'], loc='upper right')\n",
        "plt.show()"
      ]
    },
    {
      "cell_type": "code",
      "execution_count": null,
      "metadata": {
        "id": "iF6RUkPeh7Hc"
      },
      "outputs": [],
      "source": []
    },
    {
      "cell_type": "code",
      "execution_count": null,
      "metadata": {
        "colab": {
          "base_uri": "https://localhost:8080/"
        },
        "id": "DQ_S9q3ZfDxx",
        "outputId": "4e9e8466-bb5c-4581-b44b-33ea0e2364bd"
      },
      "outputs": [
        {
          "metadata": {
            "tags": null
          },
          "name": "stderr",
          "output_type": "stream",
          "text": [
            "WARNING:absl:`lr` is deprecated, please use `learning_rate` instead, or use the legacy optimizer, e.g.,tf.keras.optimizers.legacy.Adam.\n"
          ]
        },
        {
          "output_type": "stream",
          "name": "stdout",
          "text": [
            "Epoch 1/100\n",
            "188/188 [==============================] - 920s 5s/step - loss: 0.6918 - accuracy: 0.5348 - val_loss: 0.6979 - val_accuracy: 0.4894\n",
            "Epoch 2/100\n",
            "188/188 [==============================] - 909s 5s/step - loss: 0.6739 - accuracy: 0.5782 - val_loss: 0.6527 - val_accuracy: 0.6044\n",
            "Epoch 3/100\n",
            "188/188 [==============================] - 908s 5s/step - loss: 0.6596 - accuracy: 0.5998 - val_loss: 0.7085 - val_accuracy: 0.5161\n",
            "Epoch 4/100\n",
            "188/188 [==============================] - 908s 5s/step - loss: 0.6414 - accuracy: 0.6202 - val_loss: 0.6139 - val_accuracy: 0.6583\n",
            "Epoch 5/100\n",
            "188/188 [==============================] - 876s 5s/step - loss: 0.6207 - accuracy: 0.6455 - val_loss: 0.6454 - val_accuracy: 0.6222\n",
            "Epoch 6/100\n",
            "188/188 [==============================] - 862s 5s/step - loss: 0.5943 - accuracy: 0.6818 - val_loss: 0.6237 - val_accuracy: 0.6556\n",
            "Epoch 7/100\n",
            "188/188 [==============================] - 864s 5s/step - loss: 0.5734 - accuracy: 0.7030 - val_loss: 0.5741 - val_accuracy: 0.7061\n",
            "Epoch 8/100\n",
            "188/188 [==============================] - 866s 5s/step - loss: 0.5341 - accuracy: 0.7287 - val_loss: 0.5495 - val_accuracy: 0.7217\n",
            "Epoch 9/100\n",
            "188/188 [==============================] - 870s 5s/step - loss: 0.5223 - accuracy: 0.7393 - val_loss: 0.5473 - val_accuracy: 0.7178\n",
            "Epoch 10/100\n",
            "188/188 [==============================] - 857s 5s/step - loss: 0.5016 - accuracy: 0.7552 - val_loss: 0.5008 - val_accuracy: 0.7494\n",
            "Epoch 11/100\n",
            "188/188 [==============================] - 871s 5s/step - loss: 0.4738 - accuracy: 0.7723 - val_loss: 0.4729 - val_accuracy: 0.7761\n",
            "Epoch 12/100\n",
            "188/188 [==============================] - 873s 5s/step - loss: 0.4463 - accuracy: 0.7895 - val_loss: 0.4864 - val_accuracy: 0.7633\n",
            "Epoch 13/100\n",
            "132/188 [====================>.........] - ETA: 3:55 - loss: 0.4270 - accuracy: 0.8018"
          ]
        }
      ],
      "source": [
        "from tensorflow.keras.models import Sequential\n",
        "from tensorflow.keras.layers import Conv2D, MaxPooling2D, Flatten, Dense, Dropout\n",
        "from tensorflow.keras.optimizers import Adam\n",
        "from tensorflow.keras.callbacks import EarlyStopping\n",
        "\n",
        "# Set up the model architecture\n",
        "model1 = Sequential()\n",
        "model1.add(Conv2D(filters=16, kernel_size=(3,3), strides=1,activation='relu', padding='same', input_shape=(300,300,3)))\n",
        "model1.add(MaxPooling2D(2,2))\n",
        "model1.add(Dropout(0.2))\n",
        "model1.add(Conv2D(filters=32, kernel_size=(3,3), strides=1,activation='relu', padding='same'))\n",
        "model1.add(MaxPooling2D(2,2))\n",
        "model1.add(Dropout(0.2))\n",
        "model1.add(Conv2D(filters=64, kernel_size=(3,3), strides=1,activation='relu', padding='same'))\n",
        "model1.add(MaxPooling2D(2,2))\n",
        "model1.add(Dropout(0.2))\n",
        "model1.add(Conv2D(filters=64, kernel_size=(3,3), strides=1,activation='relu', padding='same'))\n",
        "model1.add(MaxPooling2D(2,2))\n",
        "model1.add(Dropout(0.2))\n",
        "model1.add(Conv2D(filters=64, kernel_size=(3,3), strides=1,activation='relu', padding='same'))\n",
        "model1.add(MaxPooling2D(2,2))\n",
        "model1.add(Dropout(0.2))\n",
        "model1.add(Conv2D(filters=64, kernel_size=(3,3), strides=1,activation='relu', padding='same'))\n",
        "model1.add(MaxPooling2D(2,2))\n",
        "model1.add(Dropout(0.2))\n",
        "model1.add(Flatten())\n",
        "model1.add(Dense(512, activation='relu'))\n",
        "model1.add(Dense(1,activation='sigmoid'))\n",
        "\n",
        "# Set up the optimizer and compile the model\n",
        "adam = Adam(lr=0.001)\n",
        "model1.compile(optimizer=adam, loss='binary_crossentropy', metrics=['accuracy'])\n",
        "\n",
        "# Set up early stopping\n",
        "early_stop = EarlyStopping(monitor='val_loss', mode='min', verbose=1, patience=10)\n",
        "\n",
        "# Train the model\n",
        "history1 = model1.fit(train_generator, epochs=100, validation_data=validation_generator, callbacks=[early_stop])\n",
        "\n",
        "# Evaluate the model on the test set\n",
        "test_loss, test_acc = model1.evaluate(validation_generator)\n",
        "print('Test accuracy:', test_acc)\n"
      ]
    },
    {
      "cell_type": "code",
      "execution_count": 1,
      "metadata": {
        "id": "r7BGUVfHh8bm",
        "colab": {
          "base_uri": "https://localhost:8080/",
          "height": 235
        },
        "outputId": "ed7d8dce-cf28-4125-cf6d-d21325cea5d7"
      },
      "outputs": [
        {
          "output_type": "error",
          "ename": "NameError",
          "evalue": "ignored",
          "traceback": [
            "\u001b[0;31m---------------------------------------------------------------------------\u001b[0m",
            "\u001b[0;31mNameError\u001b[0m                                 Traceback (most recent call last)",
            "\u001b[0;32m<ipython-input-1-d1a36c4205cd>\u001b[0m in \u001b[0;36m<module>\u001b[0;34m\u001b[0m\n\u001b[1;32m      1\u001b[0m \u001b[0;31m# Plot the training and validation accuracy curves\u001b[0m\u001b[0;34m\u001b[0m\u001b[0;34m\u001b[0m\u001b[0m\n\u001b[0;32m----> 2\u001b[0;31m \u001b[0mplt\u001b[0m\u001b[0;34m.\u001b[0m\u001b[0mplot\u001b[0m\u001b[0;34m(\u001b[0m\u001b[0mhistory1\u001b[0m\u001b[0;34m.\u001b[0m\u001b[0mhistory\u001b[0m\u001b[0;34m[\u001b[0m\u001b[0;34m'accuracy'\u001b[0m\u001b[0;34m]\u001b[0m\u001b[0;34m)\u001b[0m\u001b[0;34m\u001b[0m\u001b[0;34m\u001b[0m\u001b[0m\n\u001b[0m\u001b[1;32m      3\u001b[0m \u001b[0mplt\u001b[0m\u001b[0;34m.\u001b[0m\u001b[0mplot\u001b[0m\u001b[0;34m(\u001b[0m\u001b[0mhistory1\u001b[0m\u001b[0;34m.\u001b[0m\u001b[0mhistory\u001b[0m\u001b[0;34m[\u001b[0m\u001b[0;34m'val_accuracy'\u001b[0m\u001b[0;34m]\u001b[0m\u001b[0;34m)\u001b[0m\u001b[0;34m\u001b[0m\u001b[0;34m\u001b[0m\u001b[0m\n\u001b[1;32m      4\u001b[0m \u001b[0mplt\u001b[0m\u001b[0;34m.\u001b[0m\u001b[0mtitle\u001b[0m\u001b[0;34m(\u001b[0m\u001b[0;34m'Model Accuracy'\u001b[0m\u001b[0;34m)\u001b[0m\u001b[0;34m\u001b[0m\u001b[0;34m\u001b[0m\u001b[0m\n\u001b[1;32m      5\u001b[0m \u001b[0mplt\u001b[0m\u001b[0;34m.\u001b[0m\u001b[0mylabel\u001b[0m\u001b[0;34m(\u001b[0m\u001b[0;34m'Accuracy'\u001b[0m\u001b[0;34m)\u001b[0m\u001b[0;34m\u001b[0m\u001b[0;34m\u001b[0m\u001b[0m\n",
            "\u001b[0;31mNameError\u001b[0m: name 'plt' is not defined"
          ]
        }
      ],
      "source": [
        "\n",
        "# Plot the training and validation accuracy curves\n",
        "plt.plot(history1.history['accuracy'])\n",
        "plt.plot(history1.history['val_accuracy'])\n",
        "plt.title('Model Accuracy')\n",
        "plt.ylabel('Accuracy')\n",
        "plt.xlabel('Epoch')\n",
        "plt.legend(['Train', 'Validation'], loc='upper left')\n",
        "plt.show()\n",
        "\n",
        "# Plot the training and validation loss curves\n",
        "plt.plot(history1.history['loss'])\n",
        "plt.plot(history1.history['val_loss'])\n",
        "plt.title('Model2 Loss')\n",
        "plt.ylabel('Loss')\n",
        "plt.xlabel('Epoch')\n",
        "plt.legend(['Train', 'Validation'], loc='upper right')\n",
        "plt.show()"
      ]
    },
    {
      "cell_type": "code",
      "source": [
        "loss, accuracy = model1.evaluate(validation_generator)\n",
        "print('Test Loss:', loss)\n",
        "print('Test Accuracy:', accuracy)\n"
      ],
      "metadata": {
        "id": "ko-zoWwjnXpc"
      },
      "execution_count": null,
      "outputs": []
    },
    {
      "cell_type": "code",
      "execution_count": 7,
      "metadata": {
        "id": "r4XOPWQufR3G",
        "colab": {
          "base_uri": "https://localhost:8080/"
        },
        "outputId": "787f525e-cd97-4770-9700-ad721615341e"
      },
      "outputs": [
        {
          "output_type": "stream",
          "name": "stdout",
          "text": [
            "Found 6000 images belonging to 2 classes.\n",
            "Found 1800 images belonging to 2 classes.\n"
          ]
        }
      ],
      "source": [
        "# All images will be rescaled by 1./255\n",
        "train_datagen = ImageDataGenerator(rescale=1/255)\n",
        "validation_datagen = ImageDataGenerator(rescale=1/255)\n",
        "# Flow training images in batches of 32 using train_datagen generator\n",
        "train_generator1 = train_datagen.flow_from_directory(\n",
        "        '/tmp/dogs-vs-cats-vvsmall/train',  # This is the source directory for training images\n",
        "        target_size=(200, 200),  # All images will be resized to 300x300\n",
        "        batch_size=32,\n",
        "        # Since we use binary_crossentropy loss, we need binary labels\n",
        "        class_mode='binary')\n",
        "\n",
        "# Flow training images in batches of 32 using train_datagen generator\n",
        "validation_generator1 = validation_datagen.flow_from_directory(\n",
        "        '/tmp/dogs-vs-cats-vvsmall/validation',  # This is the source directory for training images\n",
        "        target_size=(200, 200),  # All images will be resized to 300x300\n",
        "        batch_size=32,\n",
        "        # Since we use binary_crossentropy loss, we need binary labels\n",
        "        class_mode='binary')"
      ]
    },
    {
      "cell_type": "code",
      "source": [
        "from tensorflow.keras.models import Sequential\n",
        "from tensorflow.keras.layers import Conv2D, MaxPooling2D, Flatten, Dense, Dropout\n",
        "from tensorflow.keras.optimizers import Adam\n",
        "from tensorflow.keras.callbacks import EarlyStopping\n",
        "\n",
        "# Set up the model architecture\n",
        "model1 = Sequential()\n",
        "model1.add(Conv2D(filters=16, kernel_size=(3,3), strides=1,activation='relu', padding='same', input_shape=(200,200,3)))\n",
        "model1.add(MaxPooling2D(2,2))\n",
        "model1.add(Dropout(0.2))\n",
        "model1.add(Conv2D(filters=32, kernel_size=(3,3), strides=1,activation='relu', padding='same'))\n",
        "model1.add(MaxPooling2D(2,2))\n",
        "model1.add(Dropout(0.2))\n",
        "model1.add(Conv2D(filters=64, kernel_size=(3,3), strides=1,activation='relu', padding='same'))\n",
        "model1.add(MaxPooling2D(2,2))\n",
        "model1.add(Dropout(0.2))\n",
        "model1.add(Conv2D(filters=64, kernel_size=(3,3), strides=1,activation='relu', padding='same'))\n",
        "model1.add(MaxPooling2D(2,2))\n",
        "model1.add(Dropout(0.2))\n",
        "model1.add(Conv2D(filters=64, kernel_size=(3,3), strides=1,activation='relu', padding='same'))\n",
        "model1.add(MaxPooling2D(2,2))\n",
        "model1.add(Dropout(0.2))\n",
        "model1.add(Conv2D(filters=64, kernel_size=(3,3), strides=1,activation='relu', padding='same'))\n",
        "model1.add(MaxPooling2D(2,2))\n",
        "model1.add(Dropout(0.2))\n",
        "model1.add(Flatten())\n",
        "model1.add(Dense(512, activation='relu'))\n",
        "model1.add(Dense(1,activation='sigmoid'))\n",
        "\n",
        "# Set up the optimizer and compile the model\n",
        "adam = Adam(lr=0.001)\n",
        "model1.compile(optimizer=adam, loss='binary_crossentropy', metrics=['accuracy'])\n",
        "\n",
        "# Set up early stopping\n",
        "early_stop = EarlyStopping(monitor='val_loss', mode='min', verbose=1, patience=10)\n",
        "\n",
        "# Train the model\n",
        "history1 = model1.fit(train_generator1, epochs=100, validation_data=validation_generator1, callbacks=[early_stop])\n",
        "\n",
        "# Evaluate the model on the test set\n",
        "test_loss, test_acc = model1.evaluate(validation_generator1)\n",
        "print('Test accuracy:', test_acc)\n"
      ],
      "metadata": {
        "colab": {
          "base_uri": "https://localhost:8080/"
        },
        "id": "hBZPBe4GSttS",
        "outputId": "4f036da3-b16c-4ed6-c9d8-79eff657f384"
      },
      "execution_count": null,
      "outputs": [
        {
          "output_type": "stream",
          "name": "stderr",
          "text": [
            "WARNING:absl:`lr` is deprecated, please use `learning_rate` instead, or use the legacy optimizer, e.g.,tf.keras.optimizers.legacy.Adam.\n"
          ]
        },
        {
          "output_type": "stream",
          "name": "stdout",
          "text": [
            "Epoch 1/100\n",
            "188/188 [==============================] - 429s 2s/step - loss: 0.6945 - accuracy: 0.5085 - val_loss: 0.6935 - val_accuracy: 0.5000\n",
            "Epoch 2/100\n",
            "188/188 [==============================] - 420s 2s/step - loss: 0.6933 - accuracy: 0.4948 - val_loss: 0.6932 - val_accuracy: 0.5000\n",
            "Epoch 3/100\n",
            "188/188 [==============================] - 428s 2s/step - loss: 0.6938 - accuracy: 0.4965 - val_loss: 0.6929 - val_accuracy: 0.5000\n",
            "Epoch 4/100\n",
            "188/188 [==============================] - 438s 2s/step - loss: 0.6936 - accuracy: 0.5027 - val_loss: 0.6933 - val_accuracy: 0.5000\n",
            "Epoch 5/100\n",
            "188/188 [==============================] - 430s 2s/step - loss: 0.6931 - accuracy: 0.5025 - val_loss: 0.6930 - val_accuracy: 0.5000\n",
            "Epoch 6/100\n",
            "188/188 [==============================] - 421s 2s/step - loss: 0.6919 - accuracy: 0.5212 - val_loss: 0.6825 - val_accuracy: 0.5806\n",
            "Epoch 7/100\n",
            "188/188 [==============================] - 427s 2s/step - loss: 0.6906 - accuracy: 0.5420 - val_loss: 0.6922 - val_accuracy: 0.5128\n",
            "Epoch 8/100\n",
            "188/188 [==============================] - 430s 2s/step - loss: 0.6827 - accuracy: 0.5538 - val_loss: 0.6678 - val_accuracy: 0.6200\n",
            "Epoch 9/100\n",
            "188/188 [==============================] - 425s 2s/step - loss: 0.6702 - accuracy: 0.5918 - val_loss: 0.6486 - val_accuracy: 0.6161\n",
            "Epoch 10/100\n",
            "188/188 [==============================] - 428s 2s/step - loss: 0.6467 - accuracy: 0.6302 - val_loss: 0.6430 - val_accuracy: 0.6517\n",
            "Epoch 11/100\n",
            "188/188 [==============================] - 422s 2s/step - loss: 0.6383 - accuracy: 0.6357 - val_loss: 0.6324 - val_accuracy: 0.6389\n",
            "Epoch 12/100\n",
            "188/188 [==============================] - 423s 2s/step - loss: 0.6167 - accuracy: 0.6563 - val_loss: 0.5993 - val_accuracy: 0.6861\n",
            "Epoch 13/100\n",
            "188/188 [==============================] - 420s 2s/step - loss: 0.5874 - accuracy: 0.6892 - val_loss: 0.5395 - val_accuracy: 0.7417\n",
            "Epoch 14/100\n",
            "188/188 [==============================] - 418s 2s/step - loss: 0.5594 - accuracy: 0.7142 - val_loss: 0.5507 - val_accuracy: 0.7300\n",
            "Epoch 15/100\n",
            "188/188 [==============================] - 419s 2s/step - loss: 0.5407 - accuracy: 0.7215 - val_loss: 0.5217 - val_accuracy: 0.7567\n",
            "Epoch 16/100\n",
            "188/188 [==============================] - 416s 2s/step - loss: 0.5203 - accuracy: 0.7368 - val_loss: 0.5020 - val_accuracy: 0.7572\n",
            "Epoch 17/100\n",
            "188/188 [==============================] - 417s 2s/step - loss: 0.5081 - accuracy: 0.7500 - val_loss: 0.4880 - val_accuracy: 0.7700\n",
            "Epoch 18/100\n",
            "188/188 [==============================] - 418s 2s/step - loss: 0.4881 - accuracy: 0.7627 - val_loss: 0.4824 - val_accuracy: 0.7606\n",
            "Epoch 19/100\n",
            "188/188 [==============================] - 426s 2s/step - loss: 0.4652 - accuracy: 0.7832 - val_loss: 0.4699 - val_accuracy: 0.7822\n",
            "Epoch 20/100\n",
            "188/188 [==============================] - 421s 2s/step - loss: 0.4504 - accuracy: 0.7928 - val_loss: 0.4654 - val_accuracy: 0.7772\n",
            "Epoch 21/100\n",
            "188/188 [==============================] - 425s 2s/step - loss: 0.4196 - accuracy: 0.8018 - val_loss: 0.4377 - val_accuracy: 0.7978\n",
            "Epoch 22/100\n",
            "188/188 [==============================] - 425s 2s/step - loss: 0.4061 - accuracy: 0.8123 - val_loss: 0.4212 - val_accuracy: 0.8100\n",
            "Epoch 23/100\n",
            "188/188 [==============================] - 424s 2s/step - loss: 0.3971 - accuracy: 0.8238 - val_loss: 0.4528 - val_accuracy: 0.7933\n",
            "Epoch 24/100\n",
            "188/188 [==============================] - 428s 2s/step - loss: 0.3846 - accuracy: 0.8240 - val_loss: 0.4180 - val_accuracy: 0.8133\n",
            "Epoch 25/100\n",
            "188/188 [==============================] - 423s 2s/step - loss: 0.3725 - accuracy: 0.8317 - val_loss: 0.4266 - val_accuracy: 0.8211\n",
            "Epoch 26/100\n",
            "188/188 [==============================] - 426s 2s/step - loss: 0.3641 - accuracy: 0.8385 - val_loss: 0.4427 - val_accuracy: 0.7989\n",
            "Epoch 27/100\n",
            "188/188 [==============================] - 424s 2s/step - loss: 0.3499 - accuracy: 0.8457 - val_loss: 0.4503 - val_accuracy: 0.8011\n",
            "Epoch 28/100\n",
            "188/188 [==============================] - 426s 2s/step - loss: 0.3356 - accuracy: 0.8490 - val_loss: 0.3987 - val_accuracy: 0.8183\n",
            "Epoch 29/100\n",
            "188/188 [==============================] - 431s 2s/step - loss: 0.3225 - accuracy: 0.8587 - val_loss: 0.3807 - val_accuracy: 0.8400\n",
            "Epoch 30/100\n",
            "188/188 [==============================] - 455s 2s/step - loss: 0.3299 - accuracy: 0.8523 - val_loss: 0.4148 - val_accuracy: 0.8289\n",
            "Epoch 31/100\n",
            "188/188 [==============================] - 436s 2s/step - loss: 0.3055 - accuracy: 0.8710 - val_loss: 0.4008 - val_accuracy: 0.8300\n",
            "Epoch 32/100\n",
            "188/188 [==============================] - 509s 3s/step - loss: 0.3046 - accuracy: 0.8655 - val_loss: 0.3919 - val_accuracy: 0.8300\n",
            "Epoch 33/100\n",
            "188/188 [==============================] - 448s 2s/step - loss: 0.2937 - accuracy: 0.8758 - val_loss: 0.3912 - val_accuracy: 0.8306\n",
            "Epoch 34/100\n",
            "188/188 [==============================] - 428s 2s/step - loss: 0.2912 - accuracy: 0.8748 - val_loss: 0.3848 - val_accuracy: 0.8378\n",
            "Epoch 35/100\n",
            "188/188 [==============================] - 440s 2s/step - loss: 0.2683 - accuracy: 0.8832 - val_loss: 0.3901 - val_accuracy: 0.8306\n",
            "Epoch 36/100\n",
            "188/188 [==============================] - 432s 2s/step - loss: 0.2753 - accuracy: 0.8782 - val_loss: 0.3832 - val_accuracy: 0.8383\n",
            "Epoch 37/100\n",
            "116/188 [=================>............] - ETA: 2:29 - loss: 0.2804 - accuracy: 0.8842"
          ]
        }
      ]
    },
    {
      "cell_type": "code",
      "source": [
        "\n",
        "# Plot the training and validation accuracy curves\n",
        "plt.plot(history1.history['accuracy'])\n",
        "plt.plot(history1.history['val_accuracy'])\n",
        "plt.title('Model Accuracy')\n",
        "plt.ylabel('Accuracy')\n",
        "plt.xlabel('Epoch')\n",
        "plt.legend(['Train', 'Validation'], loc='upper left')\n",
        "plt.show()\n",
        "\n",
        "# Plot the training and validation loss curves\n",
        "plt.plot(history1.history['loss'])\n",
        "plt.plot(history1.history['val_loss'])\n",
        "plt.title('Model2 Loss')\n",
        "plt.ylabel('Loss')\n",
        "plt.xlabel('Epoch')\n",
        "plt.legend(['Train', 'Validation'], loc='upper right')\n",
        "plt.show()"
      ],
      "metadata": {
        "id": "wlSQfz01TXbA"
      },
      "execution_count": null,
      "outputs": []
    },
    {
      "cell_type": "code",
      "source": [],
      "metadata": {
        "id": "wwvmfVPHDyrr"
      },
      "execution_count": null,
      "outputs": []
    },
    {
      "cell_type": "code",
      "source": [],
      "metadata": {
        "id": "pokFmSyYDy40"
      },
      "execution_count": null,
      "outputs": []
    },
    {
      "cell_type": "markdown",
      "source": [
        "#second check with some data augmentation techniques"
      ],
      "metadata": {
        "id": "_L62gA0nDzb3"
      }
    },
    {
      "cell_type": "code",
      "source": [
        "from tensorflow.keras.preprocessing.image import ImageDataGenerator\n",
        "train_datagen2 = ImageDataGenerator(rescale=1./255,\n",
        "                                   shear_range=0.1,\n",
        "                                   zoom_range=0.1,\n",
        "                                   horizontal_flip=True)\n",
        "test_datagen2 = ImageDataGenerator(rescale=1./255)\n",
        "\n",
        "#Training Set\n",
        "train_set2 = train_datagen2.flow_from_directory('/tmp/dogs-vs-cats-vvsmall/train',\n",
        "                                             target_size=(64,64),\n",
        "                                             batch_size=32,\n",
        "                                             class_mode='binary')\n",
        "#Validation Set\n",
        "test_set2 = test_datagen2.flow_from_directory('/tmp/dogs-vs-cats-vvsmall/validation',\n",
        "                                           target_size=(64,64),\n",
        "                                           batch_size = 32,\n",
        "                                           class_mode='binary',\n",
        "                                           shuffle=False)\n"
      ],
      "metadata": {
        "id": "927Ish_UD5ah"
      },
      "execution_count": null,
      "outputs": []
    },
    {
      "cell_type": "code",
      "source": [
        "import tensorflow\n",
        "model2 = Sequential()\n",
        "model2.add(Conv2D(32,(3,3),input_shape=(64,64,3),activation = 'relu'))\n",
        "model2.add(MaxPooling2D(pool_size=(2,2),strides=2)) #if stride not given it equal to pool filter size\n",
        "model2.add(Conv2D(32,(3,3),activation = 'relu'))\n",
        "model2.add(MaxPooling2D(pool_size=(2,2),strides=2))\n",
        "model2.add(Flatten())\n",
        "model2.add(Dense(units=128,activation='relu'))\n",
        "model2.add(Dense(units=1,activation='sigmoid'))\n",
        "adam = tensorflow.keras.optimizers.Adam(lr=0.001, beta_1=0.9, beta_2=0.999, epsilon=None, decay=0.0, amsgrad=False)\n",
        "model2.compile(optimizer=adam,loss='binary_crossentropy',metrics=['accuracy'])\n"
      ],
      "metadata": {
        "id": "qlmfBuBSFNLe"
      },
      "execution_count": null,
      "outputs": []
    },
    {
      "cell_type": "code",
      "source": [
        "history2=model2.fit_generator(train_set2,\n",
        "                        #steps_per_epoch=800, \n",
        "                        epochs = 50,\n",
        "                        validation_data = test_set2,\n",
        "                        #validation_steps = 20, \n",
        "                        #callbacks=[tensorboard]\n",
        "                        callbacks=[early_stop]\n",
        "                        );"
      ],
      "metadata": {
        "id": "MVbPb-ArIdmc"
      },
      "execution_count": null,
      "outputs": []
    },
    {
      "cell_type": "code",
      "source": [
        "history2.summary()"
      ],
      "metadata": {
        "id": "50_U7p30ItzH"
      },
      "execution_count": null,
      "outputs": []
    },
    {
      "cell_type": "code",
      "source": [
        "# Evaluate the model on the test set\n",
        "test_loss, test_acc = model2.evaluate(test_set2)\n",
        "print('Test accuracy:', test_acc)"
      ],
      "metadata": {
        "id": "PsJm3asHJCKh"
      },
      "execution_count": null,
      "outputs": []
    },
    {
      "cell_type": "code",
      "source": [
        "# Plot the training and validation accuracy curves\n",
        "plt.plot(history2.history['accuracy'])\n",
        "plt.plot(history2.history['val_accuracy'])\n",
        "plt.title('Model Accuracy')\n",
        "plt.ylabel('Accuracy')\n",
        "plt.xlabel('Epoch')\n",
        "plt.legend(['Train', 'Validation'], loc='upper left')\n",
        "plt.show()\n",
        "\n",
        "# Plot the training and validation loss curves\n",
        "plt.plot(history2.history['loss'])\n",
        "plt.plot(history2.history['val_loss'])\n",
        "plt.title('Model2 Loss')\n",
        "plt.ylabel('Loss')\n",
        "plt.xlabel('Epoch')\n",
        "plt.legend(['Train', 'Validation'], loc='upper right')\n",
        "plt.show()"
      ],
      "metadata": {
        "id": "dbslpsSaJGe5"
      },
      "execution_count": null,
      "outputs": []
    }
  ],
  "metadata": {
    "colab": {
      "provenance": []
    },
    "kernelspec": {
      "display_name": "Python 3",
      "name": "python3"
    },
    "language_info": {
      "name": "python"
    }
  },
  "nbformat": 4,
  "nbformat_minor": 0
}